{
  "nbformat": 4,
  "nbformat_minor": 0,
  "metadata": {
    "colab": {
      "provenance": [],
      "authorship_tag": "ABX9TyPbKVXC3ebjUTZfe3rMJ7Tu",
      "include_colab_link": true
    },
    "kernelspec": {
      "name": "python3",
      "display_name": "Python 3"
    },
    "language_info": {
      "name": "python"
    }
  },
  "cells": [
    {
      "cell_type": "markdown",
      "metadata": {
        "id": "view-in-github",
        "colab_type": "text"
      },
      "source": [
        "<a href=\"https://colab.research.google.com/github/veerakumari810/KHUB-2025-TASKS/blob/main/K_HUB.ipynb\" target=\"_parent\"><img src=\"https://colab.research.google.com/assets/colab-badge.svg\" alt=\"Open In Colab\"/></a>"
      ]
    },
    {
      "cell_type": "markdown",
      "source": [
        "03/08/25"
      ],
      "metadata": {
        "id": "RDkrEJDgHYVX"
      }
    },
    {
      "cell_type": "markdown",
      "source": [
        "print first and last character of a string"
      ],
      "metadata": {
        "id": "k6RkR5ZPH_jL"
      }
    },
    {
      "cell_type": "code",
      "source": [
        "text=\"python\"\n",
        "print(\"frist letter\",text[0])\n",
        "print(\"last number\",text [5])\n"
      ],
      "metadata": {
        "colab": {
          "base_uri": "https://localhost:8080/"
        },
        "id": "Nz2cSrkdIUaM",
        "outputId": "216cdddd-4263-4299-d58f-b076735b66a5"
      },
      "execution_count": null,
      "outputs": [
        {
          "output_type": "stream",
          "name": "stdout",
          "text": [
            "frist letter p\n",
            "last number n\n"
          ]
        }
      ]
    },
    {
      "cell_type": "markdown",
      "source": [
        "count the number of strings in character"
      ],
      "metadata": {
        "id": "b_mY8EFGMphJ"
      }
    },
    {
      "cell_type": "code",
      "source": [
        "text=(\"veerakumari\")\n",
        "print(len(text))"
      ],
      "metadata": {
        "colab": {
          "base_uri": "https://localhost:8080/"
        },
        "id": "GpqLviBeM21F",
        "outputId": "10271646-4111-4e86-cf18-990d68049bd2"
      },
      "execution_count": null,
      "outputs": [
        {
          "output_type": "stream",
          "name": "stdout",
          "text": [
            "11\n"
          ]
        }
      ]
    },
    {
      "cell_type": "markdown",
      "source": [
        "convert a string to uppercase"
      ],
      "metadata": {
        "id": "7NZoYVQaNdVO"
      }
    },
    {
      "cell_type": "code",
      "source": [
        "a=\"PYTHON\"\n",
        "print(a.lower())"
      ],
      "metadata": {
        "colab": {
          "base_uri": "https://localhost:8080/"
        },
        "id": "IW_lIFuQNhNT",
        "outputId": "4a9882f1-c7b8-4a02-a4f7-1b1ef1ed605d"
      },
      "execution_count": null,
      "outputs": [
        {
          "output_type": "stream",
          "name": "stdout",
          "text": [
            "python\n"
          ]
        }
      ]
    },
    {
      "cell_type": "markdown",
      "source": [
        "add two strings\n"
      ],
      "metadata": {
        "id": "Pr3Max0_OVvz"
      }
    },
    {
      "cell_type": "code",
      "source": [
        "text1=\"veera\"\n",
        "text2=\"kumari\"\n",
        "result=text1+text2\n",
        "print(result)"
      ],
      "metadata": {
        "colab": {
          "base_uri": "https://localhost:8080/"
        },
        "id": "sIcBE_X6OpeP",
        "outputId": "ad2ccda1-0884-4d14-a936-101b6c4964b9"
      },
      "execution_count": null,
      "outputs": [
        {
          "output_type": "stream",
          "name": "stdout",
          "text": [
            "veerakumari\n"
          ]
        }
      ]
    },
    {
      "cell_type": "markdown",
      "source": [
        "capitalize only first lettr upper case"
      ],
      "metadata": {
        "id": "8oIfBf6ERlIR"
      }
    },
    {
      "cell_type": "code",
      "source": [
        "txt = \"veera kumari\"\n",
        "a = txt.capitalize()\n",
        "print (a)\n"
      ],
      "metadata": {
        "colab": {
          "base_uri": "https://localhost:8080/"
        },
        "id": "PPbXJEpORwKB",
        "outputId": "d3f9f722-601e-4e7a-ccae-1fff1c07e21b"
      },
      "execution_count": null,
      "outputs": [
        {
          "output_type": "stream",
          "name": "stdout",
          "text": [
            "Veera kumari\n"
          ]
        }
      ]
    },
    {
      "cell_type": "markdown",
      "source": [
        "caseflod all string letter are samll"
      ],
      "metadata": {
        "id": "Gv4lDiHHSdN3"
      }
    },
    {
      "cell_type": "code",
      "source": [
        "txt = \"VEERA KUMARI\"\n",
        "x = txt.casefold()\n",
        "print(x)"
      ],
      "metadata": {
        "colab": {
          "base_uri": "https://localhost:8080/"
        },
        "id": "K1MSNNJhS-3L",
        "outputId": "bada6e4b-819b-4e81-ca44-a0763ca22f7b"
      },
      "execution_count": null,
      "outputs": [
        {
          "output_type": "stream",
          "name": "stdout",
          "text": [
            "veera kumari\n"
          ]
        }
      ]
    },
    {
      "cell_type": "markdown",
      "source": [
        "center return a centered string"
      ],
      "metadata": {
        "id": "f0wXcbqwTnJx"
      }
    },
    {
      "cell_type": "code",
      "source": [
        "txt = \"banana\"\n",
        "x = txt.center(30)\n",
        "print(x)\n"
      ],
      "metadata": {
        "colab": {
          "base_uri": "https://localhost:8080/"
        },
        "id": "M_4tVGk9TzSY",
        "outputId": "44b3f279-9ad8-4e49-c1db-5e9e6a515101"
      },
      "execution_count": null,
      "outputs": [
        {
          "output_type": "stream",
          "name": "stdout",
          "text": [
            "            banana            \n"
          ]
        }
      ]
    },
    {
      "cell_type": "markdown",
      "source": [
        "count returns the number of times a specified values in a string"
      ],
      "metadata": {
        "id": "dOJ0MnBvUqLG"
      }
    },
    {
      "cell_type": "code",
      "source": [
        "txt = \"I love apples,apple, apple are my favorite fruit\"\n",
        "x = txt.count(\"apple\")\n",
        "print(x)\n",
        "\n"
      ],
      "metadata": {
        "colab": {
          "base_uri": "https://localhost:8080/"
        },
        "id": "4pgMabU5VU5x",
        "outputId": "205665c1-9c53-4a09-da9e-b13cb3adc388"
      },
      "execution_count": null,
      "outputs": [
        {
          "output_type": "stream",
          "name": "stdout",
          "text": [
            "3\n"
          ]
        }
      ]
    },
    {
      "cell_type": "markdown",
      "source": [],
      "metadata": {
        "id": "Rdyc4aKlT-x_"
      }
    },
    {
      "cell_type": "markdown",
      "source": [
        "endswitch"
      ],
      "metadata": {
        "id": "RFrBzZZqXP2V"
      }
    },
    {
      "cell_type": "code",
      "source": [
        "txt = \"veera kumari\"\n",
        "x = txt.endswith(\"i\")\n",
        "print(x)\n"
      ],
      "metadata": {
        "colab": {
          "base_uri": "https://localhost:8080/"
        },
        "id": "1etAqjakXSK5",
        "outputId": "6b623de6-90cc-46e4-e0cc-0538b9521c17"
      },
      "execution_count": null,
      "outputs": [
        {
          "output_type": "stream",
          "name": "stdout",
          "text": [
            "True\n"
          ]
        }
      ]
    },
    {
      "cell_type": "markdown",
      "source": [
        "expandtabs"
      ],
      "metadata": {
        "id": "mmJM_Q2dZGhE"
      }
    },
    {
      "cell_type": "code",
      "source": [
        "txt = \"v\\te\\te\\tr\\ta\\tk\\tu\\tm\\ta\\tr\\ti\"\n",
        "x =  txt.expandtabs(2)\n",
        "print(x)"
      ],
      "metadata": {
        "colab": {
          "base_uri": "https://localhost:8080/"
        },
        "id": "6wDnB9d0ZODo",
        "outputId": "97bde721-a2ed-49ba-e350-dc607b4a3b54"
      },
      "execution_count": null,
      "outputs": [
        {
          "output_type": "stream",
          "name": "stdout",
          "text": [
            "v e e r a k u m a r i\n"
          ]
        }
      ]
    },
    {
      "cell_type": "markdown",
      "source": [
        "find()"
      ],
      "metadata": {
        "id": "I-Q3vj7DcEgR"
      }
    },
    {
      "cell_type": "code",
      "source": [
        "txt = \"veera kumari\"\n",
        "x = txt.find(\"k\")\n",
        "print(x)\n"
      ],
      "metadata": {
        "colab": {
          "base_uri": "https://localhost:8080/"
        },
        "id": "cpUWGl38cGzo",
        "outputId": "8a76c3e6-e558-4acf-c3e8-952614f32d68"
      },
      "execution_count": null,
      "outputs": [
        {
          "output_type": "stream",
          "name": "stdout",
          "text": [
            "6\n"
          ]
        }
      ]
    },
    {
      "cell_type": "markdown",
      "source": [
        "format()"
      ],
      "metadata": {
        "id": "unuIn34deSFl"
      }
    },
    {
      "cell_type": "code",
      "source": [
        "txt = \"For only {price} dollars!\"\n",
        "print(txt.format(price = 49))\n"
      ],
      "metadata": {
        "colab": {
          "base_uri": "https://localhost:8080/"
        },
        "id": "KL3eoUCfeU2x",
        "outputId": "0a2ebdeb-4209-4fa5-a484-3e95a4aa118a"
      },
      "execution_count": null,
      "outputs": [
        {
          "output_type": "stream",
          "name": "stdout",
          "text": [
            "For only 49 dollars\n"
          ]
        }
      ]
    },
    {
      "cell_type": "markdown",
      "source": [
        "Boolean"
      ],
      "metadata": {
        "id": "33zZREDGWJ8u"
      }
    },
    {
      "cell_type": "code",
      "source": [
        "print(10 > 9)\n",
        "print(10 == 9)\n",
        "print(10 < 9)\n"
      ],
      "metadata": {
        "colab": {
          "base_uri": "https://localhost:8080/"
        },
        "id": "G271qrU3WN6a",
        "outputId": "b89523ec-b63c-4bbd-d763-c818b0304692"
      },
      "execution_count": null,
      "outputs": [
        {
          "output_type": "stream",
          "name": "stdout",
          "text": [
            "True\n",
            "False\n",
            "False\n"
          ]
        }
      ]
    },
    {
      "cell_type": "markdown",
      "source": [
        "greater or not"
      ],
      "metadata": {
        "id": "CG04g_GTXTZe"
      }
    },
    {
      "cell_type": "code",
      "source": [
        "a = 200\n",
        "b = 33\n",
        "if b > a:\n",
        "  print(\"b is greater than a\")\n",
        "else:\n",
        "  print(\"b is not greater than a\")\n"
      ],
      "metadata": {
        "colab": {
          "base_uri": "https://localhost:8080/"
        },
        "id": "8QPQg2F6XYft",
        "outputId": "e7ae776d-575d-487a-b555-ddbb8ff36b34"
      },
      "execution_count": null,
      "outputs": [
        {
          "output_type": "stream",
          "name": "stdout",
          "text": [
            "b is not greater than a\n"
          ]
        }
      ]
    },
    {
      "cell_type": "markdown",
      "source": [
        "Arithmetic operations"
      ],
      "metadata": {
        "id": "_1Sq0Ux8hyAL"
      }
    },
    {
      "cell_type": "code",
      "source": [
        "a=4\n",
        "b=2\n",
        "c=a+b\n",
        "print(c)\n",
        "\n",
        "c=a-b\n",
        "print(c)\n",
        "\n",
        "c=a*b\n",
        "print(c)\n",
        "\n",
        "c=a/b\n",
        "print(c)\n",
        "\n",
        "c=a%b\n",
        "print(c)\n",
        "\n",
        "c=a**b\n",
        "print(c)\n",
        "\n",
        "c=a//b\n",
        "print(c)"
      ],
      "metadata": {
        "colab": {
          "base_uri": "https://localhost:8080/"
        },
        "id": "U_TW2uPiiU6Z",
        "outputId": "fb450aff-6a44-4d55-83b5-5c0e94119a0e"
      },
      "execution_count": null,
      "outputs": [
        {
          "output_type": "stream",
          "name": "stdout",
          "text": [
            "6\n",
            "2\n",
            "8\n",
            "2.0\n",
            "0\n",
            "16\n",
            "2\n"
          ]
        }
      ]
    },
    {
      "cell_type": "markdown",
      "source": [
        "comparision and relational operations"
      ],
      "metadata": {
        "id": "hHAL2NT2jW6m"
      }
    },
    {
      "cell_type": "code",
      "source": [
        "x=5\n",
        "y=8\n",
        "print(x==y)\n",
        "print(x!=y)\n",
        "print(x>y)\n",
        "print(x<y)\n",
        "print(x>=y)\n",
        "print(x<=y)"
      ],
      "metadata": {
        "colab": {
          "base_uri": "https://localhost:8080/"
        },
        "id": "7JHYlQ0tjddg",
        "outputId": "4c1800b3-55e9-47d6-cfcc-6988ee1592f1"
      },
      "execution_count": null,
      "outputs": [
        {
          "output_type": "stream",
          "name": "stdout",
          "text": [
            "False\n",
            "True\n",
            "False\n",
            "True\n",
            "False\n",
            "True\n"
          ]
        }
      ]
    },
    {
      "cell_type": "markdown",
      "source": [
        "Assigenment operations"
      ],
      "metadata": {
        "id": "DgrLzkpYj43l"
      }
    },
    {
      "cell_type": "code",
      "source": [
        "x=5\n",
        "x+=2\n",
        "print(x)\n",
        "x-=1\n",
        "print(x)\n",
        "x*=3\n",
        "print(x)\n",
        "x/=2\n",
        "print(2)\n"
      ],
      "metadata": {
        "colab": {
          "base_uri": "https://localhost:8080/"
        },
        "id": "-UToBBo1j8aP",
        "outputId": "7363664b-d08a-4caf-8b76-a7d457006538"
      },
      "execution_count": null,
      "outputs": [
        {
          "output_type": "stream",
          "name": "stdout",
          "text": [
            "7\n",
            "6\n",
            "18\n",
            "2\n"
          ]
        }
      ]
    },
    {
      "cell_type": "markdown",
      "source": [
        "logical operators"
      ],
      "metadata": {
        "id": "eWLuedxYmhpH"
      }
    },
    {
      "cell_type": "code",
      "source": [
        "x = 10\n",
        "y = 5\n",
        "\n",
        "if x > 5 and y < 10:\n",
        "    print(\"both conditions are true\")\n",
        "\n",
        "x = 10"
      ],
      "metadata": {
        "colab": {
          "base_uri": "https://localhost:8080/"
        },
        "id": "eZ0jB5M7mlV3",
        "outputId": "d2423d5d-8af7-41b1-9850-358dc68d6d24"
      },
      "execution_count": null,
      "outputs": [
        {
          "output_type": "stream",
          "name": "stdout",
          "text": [
            "both conditions are true\n"
          ]
        }
      ]
    },
    {
      "cell_type": "markdown",
      "source": [
        "bitwise operators"
      ],
      "metadata": {
        "id": "62_2wt86qvjl"
      }
    },
    {
      "cell_type": "code",
      "source": [
        "x=5\n",
        "y=3\n",
        "\n",
        "x=(x&y)\n",
        "print(x)\n",
        "x=(x|y)\n",
        "print(x)\n",
        "x=(x^y)\n",
        "print(x)"
      ],
      "metadata": {
        "id": "fv2Cv0Mvq0st",
        "colab": {
          "base_uri": "https://localhost:8080/"
        },
        "outputId": "2c9de161-a12f-4b1d-b8b8-42c449bd9445"
      },
      "execution_count": null,
      "outputs": [
        {
          "output_type": "stream",
          "name": "stdout",
          "text": [
            "1\n",
            "3\n",
            "0\n"
          ]
        }
      ]
    },
    {
      "cell_type": "markdown",
      "source": [
        "identity operators"
      ],
      "metadata": {
        "id": "xMxkms8yZvr3"
      }
    },
    {
      "cell_type": "code",
      "source": [
        "a=[1,2]\n",
        "b=a\n",
        "c=[1,2]\n",
        "print(a is b)\n",
        "print(a is c)\n",
        "print(a is not c)\n"
      ],
      "metadata": {
        "colab": {
          "base_uri": "https://localhost:8080/"
        },
        "id": "hYOZyvzTZ1Dd",
        "outputId": "3425e886-bd51-489b-8f25-04c56bfe2cb9"
      },
      "execution_count": null,
      "outputs": [
        {
          "output_type": "stream",
          "name": "stdout",
          "text": [
            "True\n",
            "False\n",
            "True\n"
          ]
        }
      ]
    },
    {
      "cell_type": "markdown",
      "source": [],
      "metadata": {
        "id": "7N4r4r6TqmNv"
      }
    },
    {
      "cell_type": "markdown",
      "source": [
        "lists"
      ],
      "metadata": {
        "id": "_UPCRaUWZ5Hs"
      }
    },
    {
      "cell_type": "code",
      "source": [
        "friuts=[\"apple\",\"banana\",\"cherry\"]\n",
        "print(friuts[0])\n",
        "friuts[1]=\"banana\"\n",
        "print(friuts)\n",
        "print(len(friuts))\n",
        "friuts.append(\"orange\")\n",
        "print(friuts)"
      ],
      "metadata": {
        "colab": {
          "base_uri": "https://localhost:8080/"
        },
        "id": "xRDycH45Z6hO",
        "outputId": "48a5b713-634e-4ec8-babc-6094d753c46a"
      },
      "execution_count": null,
      "outputs": [
        {
          "output_type": "stream",
          "name": "stdout",
          "text": [
            "apple\n",
            "['apple', 'banana', 'cherry']\n",
            "3\n",
            "['apple', 'banana', 'cherry', 'orange']\n"
          ]
        }
      ]
    },
    {
      "cell_type": "markdown",
      "source": [
        "common tuples"
      ],
      "metadata": {
        "id": "f_T3QZjzaCt-"
      }
    },
    {
      "cell_type": "code",
      "source": [
        "colors=(\"red\",\"green\",\"blue\")\n",
        "n=colors.count(\"green\")\n",
        "print(n)\n",
        "n=colors.index(\"blue\")\n",
        "print(n)\n",
        "\n"
      ],
      "metadata": {
        "colab": {
          "base_uri": "https://localhost:8080/"
        },
        "id": "5dvYRK6HaGEn",
        "outputId": "ecd1d225-7f2f-4ba1-e7ca-ba7cf3a2e438"
      },
      "execution_count": null,
      "outputs": [
        {
          "output_type": "stream",
          "name": "stdout",
          "text": [
            "1\n",
            "2\n"
          ]
        }
      ]
    },
    {
      "cell_type": "markdown",
      "source": [
        "sets"
      ],
      "metadata": {
        "id": "1iGwQ283aM57"
      }
    },
    {
      "cell_type": "code",
      "source": [
        "numbers={1,2,3,4,5}\n",
        "print(numbers)\n",
        "numbers.add(6)\n",
        "print(numbers)\n",
        "numbers.remove(2)\n",
        "print(numbers)"
      ],
      "metadata": {
        "colab": {
          "base_uri": "https://localhost:8080/"
        },
        "id": "1ejk6kf3aOAL",
        "outputId": "e5c1e4ec-ed15-410c-c0df-cac7e2040ee7"
      },
      "execution_count": null,
      "outputs": [
        {
          "output_type": "stream",
          "name": "stdout",
          "text": [
            "{1, 2, 3, 4, 5}\n",
            "{1, 2, 3, 4, 5, 6}\n",
            "{1, 3, 4, 5, 6}\n"
          ]
        }
      ]
    },
    {
      "cell_type": "markdown",
      "source": [
        "# 04/08/25"
      ],
      "metadata": {
        "id": "kkh0ISm_U5v_"
      }
    },
    {
      "cell_type": "markdown",
      "source": [
        "loops"
      ],
      "metadata": {
        "id": "98xCJypEVRTM"
      }
    },
    {
      "cell_type": "markdown",
      "source": [
        "print 1 to 10 numbers"
      ],
      "metadata": {
        "id": "fLe_gNg7Wjek"
      }
    },
    {
      "cell_type": "code",
      "source": [
        "\n",
        "i=1\n",
        "while i <=10:\n",
        " print(i)\n",
        " i+=1\n",
        "\n"
      ],
      "metadata": {
        "colab": {
          "base_uri": "https://localhost:8080/"
        },
        "id": "t1Vz2aRRVAqK",
        "outputId": "0c2fe861-e0ea-4dd8-e7ef-ebfeda21446d"
      },
      "execution_count": null,
      "outputs": [
        {
          "output_type": "stream",
          "name": "stdout",
          "text": [
            "1\n",
            "2\n",
            "3\n",
            "4\n",
            "5\n",
            "6\n",
            "7\n",
            "8\n",
            "9\n",
            "10\n"
          ]
        }
      ]
    },
    {
      "cell_type": "markdown",
      "source": [
        "reverse print 10 to 1\n",
        "\n"
      ],
      "metadata": {
        "id": "-M0Ilz2TVfoz"
      }
    },
    {
      "cell_type": "code",
      "source": [
        "i=10\n",
        "while i >=1:\n",
        "  print(i)\n",
        "  i-=1"
      ],
      "metadata": {
        "colab": {
          "base_uri": "https://localhost:8080/"
        },
        "id": "gw1toAzBViJ4",
        "outputId": "38b8aeb3-a4c0-4c4e-a4f3-5c64733fca11"
      },
      "execution_count": null,
      "outputs": [
        {
          "output_type": "stream",
          "name": "stdout",
          "text": [
            "10\n",
            "9\n",
            "8\n",
            "7\n",
            "6\n",
            "5\n",
            "4\n",
            "3\n",
            "2\n",
            "1\n"
          ]
        }
      ]
    },
    {
      "cell_type": "markdown",
      "source": [
        "print even numbers 1 to 20"
      ],
      "metadata": {
        "id": "ir8f9JerVp07"
      }
    },
    {
      "cell_type": "code",
      "source": [
        "\n",
        "i=2\n",
        "while i < 20:\n",
        "  print(i)\n",
        "  i+=2"
      ],
      "metadata": {
        "colab": {
          "base_uri": "https://localhost:8080/"
        },
        "id": "OtkTyihNVtvD",
        "outputId": "b236f39f-a98d-4a99-991c-95c556c2d007"
      },
      "execution_count": null,
      "outputs": [
        {
          "output_type": "stream",
          "name": "stdout",
          "text": [
            "2\n",
            "4\n",
            "6\n",
            "8\n",
            "10\n",
            "12\n",
            "14\n",
            "16\n",
            "18\n"
          ]
        }
      ]
    },
    {
      "cell_type": "markdown",
      "source": [
        "print odd number 1 to 30"
      ],
      "metadata": {
        "id": "js7QkXWuVywO"
      }
    },
    {
      "cell_type": "code",
      "source": [
        "\n",
        "i=1\n",
        "while i < 20:\n",
        "  print(i)\n",
        "  i+=2\n",
        "\n"
      ],
      "metadata": {
        "colab": {
          "base_uri": "https://localhost:8080/"
        },
        "id": "FAL8dZFbVyTy",
        "outputId": "6116f3aa-f2d8-43bb-9ff6-652e1b599158"
      },
      "execution_count": null,
      "outputs": [
        {
          "output_type": "stream",
          "name": "stdout",
          "text": [
            "1\n",
            "3\n",
            "5\n",
            "7\n",
            "9\n",
            "11\n",
            "13\n",
            "15\n",
            "17\n",
            "19\n"
          ]
        }
      ]
    },
    {
      "cell_type": "markdown",
      "source": [
        "sum of natural numbers N=10"
      ],
      "metadata": {
        "id": "kYUFS0jDV31y"
      }
    },
    {
      "cell_type": "code",
      "source": [
        "\n",
        "n=10\n",
        "i=1\n",
        "total=0\n",
        "while i<=n:\n",
        "  total+=i\n",
        "  i+=1\n",
        "  print(total)\n",
        "\n"
      ],
      "metadata": {
        "colab": {
          "base_uri": "https://localhost:8080/"
        },
        "id": "AM5pvWjpV8Bk",
        "outputId": "da429093-0a60-42ff-bb96-5d0d6cd7c87b"
      },
      "execution_count": null,
      "outputs": [
        {
          "output_type": "stream",
          "name": "stdout",
          "text": [
            "1\n",
            "3\n",
            "6\n",
            "10\n",
            "15\n",
            "21\n",
            "28\n",
            "36\n",
            "45\n",
            "55\n"
          ]
        }
      ]
    },
    {
      "cell_type": "markdown",
      "source": [
        "multiplication table of a number"
      ],
      "metadata": {
        "id": "X3FelegsWBnA"
      }
    },
    {
      "cell_type": "code",
      "source": [
        "num=10\n",
        "i=1\n",
        "while i<=5:\n",
        "  print(num,\"*\",i,\"=\",num*i)\n",
        "  i+=1\n",
        "\n"
      ],
      "metadata": {
        "colab": {
          "base_uri": "https://localhost:8080/"
        },
        "id": "jPeuCCMGWFCS",
        "outputId": "6ede86c7-fb16-4be5-8ccc-282e06b43fab"
      },
      "execution_count": null,
      "outputs": [
        {
          "output_type": "stream",
          "name": "stdout",
          "text": [
            "10 * 1 = 10\n",
            "10 * 2 = 20\n",
            "10 * 3 = 30\n",
            "10 * 4 = 40\n",
            "10 * 5 = 50\n"
          ]
        }
      ]
    },
    {
      "cell_type": "markdown",
      "source": [
        "reverse a number"
      ],
      "metadata": {
        "id": "DuW33Q2LWO6W"
      }
    },
    {
      "cell_type": "code",
      "source": [
        "num=1234\n",
        "rev=0\n",
        "while num >0:\n",
        "  rev=rev*10+num%10\n",
        "  num=num//10\n",
        "print(rev)\n"
      ],
      "metadata": {
        "colab": {
          "base_uri": "https://localhost:8080/"
        },
        "id": "7B7S_7R9WTkB",
        "outputId": "fa4bbdcc-3125-4025-b405-6d9b68f638c8"
      },
      "execution_count": null,
      "outputs": [
        {
          "output_type": "stream",
          "name": "stdout",
          "text": [
            "4321\n"
          ]
        }
      ]
    },
    {
      "cell_type": "markdown",
      "source": [
        "Count digits in a number\n"
      ],
      "metadata": {
        "id": "BEpik0caW7ZB"
      }
    },
    {
      "cell_type": "code",
      "source": [
        "num = 7865\n",
        "count = 0\n",
        "while num > 0:\n",
        "    num = num // 10\n",
        "    count += 1\n",
        "print( count)"
      ],
      "metadata": {
        "colab": {
          "base_uri": "https://localhost:8080/"
        },
        "id": "z-H6hV1cW-WX",
        "outputId": "fb125a32-1cd8-4e69-e1e8-97e8d40bbed2"
      },
      "execution_count": null,
      "outputs": [
        {
          "output_type": "stream",
          "name": "stdout",
          "text": [
            "4\n"
          ]
        }
      ]
    },
    {
      "cell_type": "markdown",
      "source": [
        "Check palindrome number"
      ],
      "metadata": {
        "id": "iHrrP83Ef3jd"
      }
    },
    {
      "cell_type": "code",
      "source": [
        "num = 121\n",
        "temp = num\n",
        "rev = 0\n",
        "while num > 0:\n",
        "    rev = rev * 10 + num % 10\n",
        "    num = num // 10\n",
        "if temp == rev:\n",
        "    print(\"Palindrome\")\n",
        "else:\n",
        "    print(\"Not Palindrome\")"
      ],
      "metadata": {
        "colab": {
          "base_uri": "https://localhost:8080/"
        },
        "id": "zf3AZyv9f7r9",
        "outputId": "baa1fcaa-24ce-4a69-ea92-5111b1cd53b5"
      },
      "execution_count": null,
      "outputs": [
        {
          "output_type": "stream",
          "name": "stdout",
          "text": [
            "Palindrome\n"
          ]
        }
      ]
    },
    {
      "cell_type": "markdown",
      "source": [
        "Sum of digits"
      ],
      "metadata": {
        "id": "cz738qgSgImA"
      }
    },
    {
      "cell_type": "code",
      "source": [
        "num = 1234\n",
        "total = 0\n",
        "while num > 0:\n",
        "    total += num % 10\n",
        "    num = num // 10\n",
        "print( total)"
      ],
      "metadata": {
        "colab": {
          "base_uri": "https://localhost:8080/"
        },
        "id": "684x3BYNgXAp",
        "outputId": "788c2996-a8b6-4189-c86b-cd1fff8e4dc9"
      },
      "execution_count": null,
      "outputs": [
        {
          "output_type": "stream",
          "name": "stdout",
          "text": [
            "10\n"
          ]
        }
      ]
    },
    {
      "cell_type": "markdown",
      "source": [
        "Factorial of a number"
      ],
      "metadata": {
        "id": "DkqNW9F3gxhv"
      }
    },
    {
      "cell_type": "code",
      "source": [
        "n = 5\n",
        "fact = 1\n",
        "i = 1\n",
        "while i <= n:\n",
        "    fact *= i\n",
        "    i += 1\n",
        "print( fact)"
      ],
      "metadata": {
        "colab": {
          "base_uri": "https://localhost:8080/"
        },
        "id": "6v58lq4Bgy-p",
        "outputId": "c50b610a-4c99-4db1-8843-478d76e9dc24"
      },
      "execution_count": null,
      "outputs": [
        {
          "output_type": "stream",
          "name": "stdout",
          "text": [
            "120\n"
          ]
        }
      ]
    },
    {
      "cell_type": "markdown",
      "source": [
        ". Pattern Printing"
      ],
      "metadata": {
        "id": "ktybxodnhCv7"
      }
    },
    {
      "cell_type": "code",
      "source": [
        "i = 1\n",
        "while i <= 5:\n",
        "    print(\"*\" * i)\n",
        "    i += 1\n"
      ],
      "metadata": {
        "colab": {
          "base_uri": "https://localhost:8080/"
        },
        "id": "l6hS9ZdOhFX-",
        "outputId": "9b6250e1-69ff-4706-dd1e-087497f6b2d9"
      },
      "execution_count": null,
      "outputs": [
        {
          "output_type": "stream",
          "name": "stdout",
          "text": [
            "*\n",
            "**\n",
            "***\n",
            "****\n",
            "*****\n"
          ]
        }
      ]
    },
    {
      "cell_type": "markdown",
      "source": [
        "Print each fruit in a fruit list:"
      ],
      "metadata": {
        "id": "UfTYaNJbkg-Q"
      }
    },
    {
      "cell_type": "markdown",
      "source": [
        "## **For** loop"
      ],
      "metadata": {
        "id": "igjGNMVikyYX"
      }
    },
    {
      "cell_type": "code",
      "source": [
        "fruits = [\"apple\", \"banana\", \"cherry\"]\n",
        "for x in fruits:\n",
        "  print(x)"
      ],
      "metadata": {
        "colab": {
          "base_uri": "https://localhost:8080/"
        },
        "id": "DwXCpeMZkqsc",
        "outputId": "0e19e74b-080f-4fe4-be0e-06d08c64d6b6"
      },
      "execution_count": null,
      "outputs": [
        {
          "output_type": "stream",
          "name": "stdout",
          "text": [
            "apple\n",
            "banana\n",
            "cherry\n"
          ]
        }
      ]
    },
    {
      "cell_type": "markdown",
      "source": [
        "Print numbers 1 to 5"
      ],
      "metadata": {
        "id": "PIj5SXJal1h1"
      }
    },
    {
      "cell_type": "code",
      "source": [
        "for i in range(1, 6):\n",
        "    print(i)\n"
      ],
      "metadata": {
        "colab": {
          "base_uri": "https://localhost:8080/"
        },
        "id": "WNrHzhGwl6Hr",
        "outputId": "9b584e81-20ee-40c5-9138-1029f3dc89e4"
      },
      "execution_count": null,
      "outputs": [
        {
          "output_type": "stream",
          "name": "stdout",
          "text": [
            "1\n",
            "2\n",
            "3\n",
            "4\n",
            "5\n"
          ]
        }
      ]
    },
    {
      "cell_type": "markdown",
      "source": [
        "Print characters in a string\n"
      ],
      "metadata": {
        "id": "wftWeaYDmaHM"
      }
    },
    {
      "cell_type": "code",
      "source": [
        "for ch in \"hello\":\n",
        "    print(ch)\n"
      ],
      "metadata": {
        "colab": {
          "base_uri": "https://localhost:8080/"
        },
        "id": "uVA0fXzymQr9",
        "outputId": "183ddffc-349a-4015-d06d-4247fb75a2a9"
      },
      "execution_count": null,
      "outputs": [
        {
          "output_type": "stream",
          "name": "stdout",
          "text": [
            "h\n",
            "e\n",
            "l\n",
            "l\n",
            "o\n"
          ]
        }
      ]
    },
    {
      "cell_type": "markdown",
      "source": [
        "Sum of first 10 numbers"
      ],
      "metadata": {
        "id": "USTklCGum-An"
      }
    },
    {
      "cell_type": "code",
      "source": [
        "total = 0\n",
        "for i in range(1, 11):\n",
        "    total += i\n",
        "print(total)"
      ],
      "metadata": {
        "colab": {
          "base_uri": "https://localhost:8080/"
        },
        "id": "2MQgSNa2m_lk",
        "outputId": "b2697e5e-42a9-4cec-d105-cbf51f41612f"
      },
      "execution_count": null,
      "outputs": [
        {
          "output_type": "stream",
          "name": "stdout",
          "text": [
            "55\n"
          ]
        }
      ]
    },
    {
      "cell_type": "markdown",
      "source": [
        "Print even numbers from 1 to 20"
      ],
      "metadata": {
        "id": "Mpq-WVnhnZLm"
      }
    },
    {
      "cell_type": "code",
      "source": [
        "for i in range(1, 21):\n",
        "    if i % 2 == 0:\n",
        "        print(i)"
      ],
      "metadata": {
        "colab": {
          "base_uri": "https://localhost:8080/"
        },
        "id": "gKBv--hknbd_",
        "outputId": "7b2c8244-cb8b-4739-9116-5a6d9837bfbd"
      },
      "execution_count": null,
      "outputs": [
        {
          "output_type": "stream",
          "name": "stdout",
          "text": [
            "2\n",
            "4\n",
            "6\n",
            "8\n",
            "10\n",
            "12\n",
            "14\n",
            "16\n",
            "18\n",
            "20\n"
          ]
        }
      ]
    },
    {
      "cell_type": "markdown",
      "source": [
        "Print multiplication table of a number"
      ],
      "metadata": {
        "id": "yEIP0x6po7db"
      }
    },
    {
      "cell_type": "code",
      "source": [
        "num = 5\n",
        "for i in range(1, 11):\n",
        "    print(f\"{num} x {i} = {num*i}\")"
      ],
      "metadata": {
        "colab": {
          "base_uri": "https://localhost:8080/"
        },
        "id": "BS4ks7qko81B",
        "outputId": "f4ee5ccc-119e-4112-af70-38fc78078e27"
      },
      "execution_count": null,
      "outputs": [
        {
          "output_type": "stream",
          "name": "stdout",
          "text": [
            "5 x 1 = 5\n",
            "5 x 2 = 10\n",
            "5 x 3 = 15\n",
            "5 x 4 = 20\n",
            "5 x 5 = 25\n",
            "5 x 6 = 30\n",
            "5 x 7 = 35\n",
            "5 x 8 = 40\n",
            "5 x 9 = 45\n",
            "5 x 10 = 50\n"
          ]
        }
      ]
    },
    {
      "cell_type": "markdown",
      "source": [
        "Factorial of a number"
      ],
      "metadata": {
        "id": "1I-O4ubwpBYq"
      }
    },
    {
      "cell_type": "code",
      "source": [
        "num = 5\n",
        "fact = 1\n",
        "for i in range(1, num + 1):\n",
        "    fact *= i\n",
        "print( fact)"
      ],
      "metadata": {
        "colab": {
          "base_uri": "https://localhost:8080/"
        },
        "id": "E3yHdYENpEWk",
        "outputId": "28db60db-c8d6-4043-e781-c3ff3e3aea12"
      },
      "execution_count": null,
      "outputs": [
        {
          "output_type": "stream",
          "name": "stdout",
          "text": [
            "120\n"
          ]
        }
      ]
    },
    {
      "cell_type": "markdown",
      "source": [
        "Reverse a string\n",
        "\n"
      ],
      "metadata": {
        "id": "_EBYpRuqpMxw"
      }
    },
    {
      "cell_type": "code",
      "source": [
        "s = \"python\"\n",
        "rev = \"\"\n",
        "for ch in s:\n",
        "    rev = ch + rev\n",
        "print(\"Reversed:\", rev)"
      ],
      "metadata": {
        "colab": {
          "base_uri": "https://localhost:8080/"
        },
        "id": "877a2oQepRqM",
        "outputId": "0994f428-8d97-49e5-a013-cdde43ec9055"
      },
      "execution_count": null,
      "outputs": [
        {
          "output_type": "stream",
          "name": "stdout",
          "text": [
            "Reversed: nohtyp\n"
          ]
        }
      ]
    },
    {
      "cell_type": "markdown",
      "source": [
        "Nested loop"
      ],
      "metadata": {
        "id": "tF-KNP7EpzO_"
      }
    },
    {
      "cell_type": "code",
      "source": [
        "for i in range(1, 6):\n",
        "    for j in range(i):\n",
        "        print(\"*\", end=\"\")\n",
        "    print()"
      ],
      "metadata": {
        "colab": {
          "base_uri": "https://localhost:8080/"
        },
        "id": "x0czcmosqEUZ",
        "outputId": "a243c9a3-940a-41fc-a65e-39551a050b4b"
      },
      "execution_count": null,
      "outputs": [
        {
          "output_type": "stream",
          "name": "stdout",
          "text": [
            "*\n",
            "**\n",
            "***\n",
            "****\n",
            "*****\n"
          ]
        }
      ]
    },
    {
      "cell_type": "markdown",
      "source": [
        "#05/08/2025"
      ],
      "metadata": {
        "id": "SbzJnQVpjRDd"
      }
    },
    {
      "cell_type": "markdown",
      "source": [
        "String in python"
      ],
      "metadata": {
        "id": "kAx-0nFZjXt_"
      }
    },
    {
      "cell_type": "code",
      "source": [
        "for x in (\"Veera kumari\"):\n",
        "   print(x)"
      ],
      "metadata": {
        "colab": {
          "base_uri": "https://localhost:8080/"
        },
        "id": "CEAc_lnJjiNh",
        "outputId": "35c2532b-1277-434e-da7b-041cea661119"
      },
      "execution_count": null,
      "outputs": [
        {
          "output_type": "stream",
          "name": "stdout",
          "text": [
            "V\n",
            "e\n",
            "e\n",
            "r\n",
            "a\n",
            " \n",
            "k\n",
            "u\n",
            "m\n",
            "a\n",
            "r\n",
            "i\n"
          ]
        }
      ]
    },
    {
      "cell_type": "markdown",
      "source": [
        "Index with tuple items print"
      ],
      "metadata": {
        "id": "iyJAbYYPjv7W"
      }
    },
    {
      "cell_type": "code",
      "source": [
        "fruits=(\"apples\",\"banana\",\"cherry\")\n",
        "for i in range(len(fruits)):\n",
        "    print(\"index:\",i, \"value:\",fruits[i])"
      ],
      "metadata": {
        "colab": {
          "base_uri": "https://localhost:8080/"
        },
        "id": "ISAomamfkYQR",
        "outputId": "c0a49cf5-02b5-4400-9cb8-222cdaf2796a"
      },
      "execution_count": null,
      "outputs": [
        {
          "output_type": "stream",
          "name": "stdout",
          "text": [
            "index: 0 value: apples\n",
            "index: 1 value: banana\n",
            "index: 2 value: cherry\n"
          ]
        }
      ]
    },
    {
      "cell_type": "markdown",
      "source": [
        "Even numbers filter"
      ],
      "metadata": {
        "id": "k5p6_NzQmR5x"
      }
    },
    {
      "cell_type": "code",
      "source": [
        "numbers=(10,20,35,34,57)\n",
        "for n in numbers:\n",
        " if n%2==0:\n",
        "  print(\"even\",n)"
      ],
      "metadata": {
        "colab": {
          "base_uri": "https://localhost:8080/"
        },
        "id": "np6HKzVknL5E",
        "outputId": "53712371-68bc-4198-9fe4-6f02ae905dc3"
      },
      "execution_count": null,
      "outputs": [
        {
          "output_type": "stream",
          "name": "stdout",
          "text": [
            "even 10\n",
            "even 20\n",
            "even 34\n"
          ]
        }
      ]
    },
    {
      "cell_type": "markdown",
      "source": [],
      "metadata": {
        "id": "AydWMAuJn5nY"
      }
    },
    {
      "cell_type": "markdown",
      "source": [
        "Nested loop"
      ],
      "metadata": {
        "id": "VInSK3X5oWQs"
      }
    },
    {
      "cell_type": "code",
      "source": [
        "for i in range(1,4):\n",
        "    for j in range(1,3):\n",
        "        print(f\"i={i},fj={j}\")"
      ],
      "metadata": {
        "colab": {
          "base_uri": "https://localhost:8080/"
        },
        "id": "_6BwAjheorWB",
        "outputId": "e87f3a8f-61c5-4d44-e586-09067a23773d"
      },
      "execution_count": null,
      "outputs": [
        {
          "output_type": "stream",
          "name": "stdout",
          "text": [
            "i=1,fj=1\n",
            "i=1,fj=2\n",
            "i=2,fj=1\n",
            "i=2,fj=2\n",
            "i=3,fj=1\n",
            "i=3,fj=2\n"
          ]
        }
      ]
    },
    {
      "cell_type": "markdown",
      "source": [
        "Number Pattern Triangle"
      ],
      "metadata": {
        "id": "Wg7l9QGkrRPQ"
      }
    },
    {
      "cell_type": "code",
      "source": [
        "for i in range(1, 6):\n",
        "    for j in range(1, i + 1):\n",
        "        print(j, end=\" \")\n",
        "    print()"
      ],
      "metadata": {
        "colab": {
          "base_uri": "https://localhost:8080/"
        },
        "id": "hm-oU0mdrcsC",
        "outputId": "c772cd37-8919-4ac7-c303-f201aa28ae92"
      },
      "execution_count": null,
      "outputs": [
        {
          "output_type": "stream",
          "name": "stdout",
          "text": [
            "1 \n",
            "1 2 \n",
            "1 2 3 \n",
            "1 2 3 4 \n",
            "1 2 3 4 5 \n"
          ]
        }
      ]
    },
    {
      "cell_type": "markdown",
      "source": [
        "Reverse Number Triangle"
      ],
      "metadata": {
        "id": "m6eVCn4mrmna"
      }
    },
    {
      "cell_type": "code",
      "source": [
        "for i in range(5, 0, -1):\n",
        "    for j in range(1, i + 1):\n",
        "        print(j, end=\" \")\n",
        "    print()"
      ],
      "metadata": {
        "colab": {
          "base_uri": "https://localhost:8080/"
        },
        "id": "X8MZPy_5rqZ2",
        "outputId": "e4107689-bd9b-476a-ac1b-0c8ee693719f"
      },
      "execution_count": null,
      "outputs": [
        {
          "output_type": "stream",
          "name": "stdout",
          "text": [
            "1 2 3 4 5 \n",
            "1 2 3 4 \n",
            "1 2 3 \n",
            "1 2 \n",
            "1 \n"
          ]
        }
      ]
    },
    {
      "cell_type": "markdown",
      "source": [
        "Functions"
      ],
      "metadata": {
        "id": "I8RaNtp8sOEl"
      }
    },
    {
      "cell_type": "code",
      "source": [
        "def my_function():\n",
        "   print(\"Veera kumari\")\n",
        "my_function()"
      ],
      "metadata": {
        "colab": {
          "base_uri": "https://localhost:8080/"
        },
        "id": "KHVbZZXYsQKG",
        "outputId": "b1ec6688-4c08-478a-ea8e-799ce61dedad"
      },
      "execution_count": null,
      "outputs": [
        {
          "output_type": "stream",
          "name": "stdout",
          "text": [
            "Veera kumari\n"
          ]
        }
      ]
    },
    {
      "cell_type": "code",
      "source": [
        "for i in range (1,6):\n",
        "\n",
        "   print(i)"
      ],
      "metadata": {
        "colab": {
          "base_uri": "https://localhost:8080/"
        },
        "id": "6XKZBtxsOIck",
        "outputId": "76ce37b0-386e-4fb1-fc78-5abaf1b82b5b"
      },
      "execution_count": null,
      "outputs": [
        {
          "output_type": "stream",
          "name": "stdout",
          "text": [
            "1\n",
            "2\n",
            "3\n",
            "4\n",
            "5\n"
          ]
        }
      ]
    },
    {
      "cell_type": "code",
      "source": [
        "for i in \"Veera kumari\":\n",
        "    print(i)"
      ],
      "metadata": {
        "colab": {
          "base_uri": "https://localhost:8080/"
        },
        "id": "UM60ii95O-sf",
        "outputId": "08fb0766-215c-4619-cc7f-8f5271d976ff"
      },
      "execution_count": null,
      "outputs": [
        {
          "output_type": "stream",
          "name": "stdout",
          "text": [
            "V\n",
            "e\n",
            "e\n",
            "r\n",
            "a\n",
            " \n",
            "k\n",
            "u\n",
            "m\n",
            "a\n",
            "r\n",
            "i\n"
          ]
        }
      ]
    },
    {
      "cell_type": "code",
      "source": [
        "fruits=(\"apples\",\"banana\",\"cherry\")\n",
        "for fruits  in fruits :\n",
        "    print(fruits)"
      ],
      "metadata": {
        "colab": {
          "base_uri": "https://localhost:8080/"
        },
        "id": "lE40JkmmPKta",
        "outputId": "be9ace83-bafd-4b5c-bca8-155498a2683c"
      },
      "execution_count": null,
      "outputs": [
        {
          "output_type": "stream",
          "name": "stdout",
          "text": [
            "apples\n",
            "banana\n",
            "cherry\n"
          ]
        }
      ]
    },
    {
      "cell_type": "markdown",
      "source": [],
      "metadata": {
        "id": "WboZcRtBr7bo"
      }
    },
    {
      "cell_type": "code",
      "source": [
        "for i in range(10,18,3):\n",
        "     print(i)"
      ],
      "metadata": {
        "colab": {
          "base_uri": "https://localhost:8080/"
        },
        "id": "aPNo1at5R2Z_",
        "outputId": "ca1f8bef-7703-4b32-9599-b899e77463a8"
      },
      "execution_count": null,
      "outputs": [
        {
          "output_type": "stream",
          "name": "stdout",
          "text": [
            "10\n",
            "13\n",
            "16\n"
          ]
        }
      ]
    },
    {
      "cell_type": "code",
      "source": [
        "def my_function(fname):\n",
        "   print(fname+ \" Achanta\")\n",
        "my_function(\"veera kumari\")\n",
        "my_function(\"swamy\")\n",
        "my_function(\"varalakshmi\")\n"
      ],
      "metadata": {
        "colab": {
          "base_uri": "https://localhost:8080/"
        },
        "id": "avBJ3FvVbhol",
        "outputId": "a78d15ff-cdcb-4a55-833a-95cd98a12811"
      },
      "execution_count": 3,
      "outputs": [
        {
          "output_type": "stream",
          "name": "stdout",
          "text": [
            "veera kumari Achanta\n",
            "swamy Achanta\n",
            "varalakshmi Achanta\n"
          ]
        }
      ]
    },
    {
      "cell_type": "markdown",
      "source": [
        "add two numbers"
      ],
      "metadata": {
        "id": "e_NXGyiBcguQ"
      }
    },
    {
      "cell_type": "code",
      "source": [
        "def add(a, b):\n",
        "    return a + b\n",
        "\n",
        "print(add(3,5))"
      ],
      "metadata": {
        "colab": {
          "base_uri": "https://localhost:8080/"
        },
        "id": "aPKAzCMRcjLQ",
        "outputId": "03003f89-88d9-4a2a-b7d3-dd08b61ca747"
      },
      "execution_count": 26,
      "outputs": [
        {
          "output_type": "stream",
          "name": "stdout",
          "text": [
            "8\n"
          ]
        }
      ]
    },
    {
      "cell_type": "markdown",
      "source": [
        "Check Even or Odd"
      ],
      "metadata": {
        "id": "npKiJ8k7cpKw"
      }
    },
    {
      "cell_type": "code",
      "source": [
        "def is_even(n):\n",
        "    return n % 2 == 0\n",
        "\n",
        "print(is_even(4))"
      ],
      "metadata": {
        "colab": {
          "base_uri": "https://localhost:8080/"
        },
        "id": "c3ODyOB8crwn",
        "outputId": "27b97633-192e-4d1c-d1a1-28215184d1f0"
      },
      "execution_count": 9,
      "outputs": [
        {
          "output_type": "stream",
          "name": "stdout",
          "text": [
            "True\n"
          ]
        }
      ]
    },
    {
      "cell_type": "markdown",
      "source": [
        "factorial"
      ],
      "metadata": {
        "id": "PZperbIcdMlw"
      }
    },
    {
      "cell_type": "code",
      "source": [
        "def factorial(n):\n",
        "    if n == 0 or n == 1:\n",
        "        return 1\n",
        "    return n * factorial(n - 1)\n",
        "\n",
        "print(factorial(5))"
      ],
      "metadata": {
        "colab": {
          "base_uri": "https://localhost:8080/"
        },
        "id": "IjAj-jr0dQy0",
        "outputId": "a4890d1d-a22d-41ac-9f09-40251dbe9899"
      },
      "execution_count": 6,
      "outputs": [
        {
          "output_type": "stream",
          "name": "stdout",
          "text": [
            "120\n"
          ]
        }
      ]
    },
    {
      "cell_type": "markdown",
      "source": [
        "reverse string"
      ],
      "metadata": {
        "id": "kVm7dlLldulG"
      }
    },
    {
      "cell_type": "code",
      "source": [
        "def reverse_string(s):\n",
        "    return s[::-1]\n",
        "\n",
        "print(reverse_string(\"hello\"))"
      ],
      "metadata": {
        "colab": {
          "base_uri": "https://localhost:8080/"
        },
        "id": "mN6pcJfQdwkQ",
        "outputId": "34da9ca2-5583-4b61-b224-ede804195147"
      },
      "execution_count": 7,
      "outputs": [
        {
          "output_type": "stream",
          "name": "stdout",
          "text": [
            "olleh\n"
          ]
        }
      ]
    },
    {
      "cell_type": "markdown",
      "source": [],
      "metadata": {
        "id": "ca14z876jOVL"
      }
    },
    {
      "cell_type": "code",
      "source": [
        "def add():\n",
        "  a=5\n",
        "  b=10\n",
        "  print(a+b)\n",
        "add()\n",
        "\n",
        "def add(a,b):\n",
        "  print(a+b)\n",
        "a=int(input(\"enter a value\"))\n",
        "b=int(input(\"enter b value\"))\n",
        "add(a,b)\n"
      ],
      "metadata": {
        "colab": {
          "base_uri": "https://localhost:8080/"
        },
        "id": "w5xOGceKjR-R",
        "outputId": "74e99e37-6659-429f-d110-9f90040ec7d5"
      },
      "execution_count": 14,
      "outputs": [
        {
          "output_type": "stream",
          "name": "stdout",
          "text": [
            "15\n",
            "enter a value5\n",
            "enter b value6\n",
            "11\n"
          ]
        }
      ]
    },
    {
      "cell_type": "code",
      "source": [
        "def add(a,b):\n",
        "  print(a+b)\n",
        "x=int(input(\"enter x value\"))\n",
        "y=int(input(\"enter y value\"))\n",
        "add(x,y)\n",
        "\n"
      ],
      "metadata": {
        "colab": {
          "base_uri": "https://localhost:8080/"
        },
        "id": "Oj86t2bBjQ1G",
        "outputId": "d514270f-e5aa-4bb8-eefc-d398f7c822b1"
      },
      "execution_count": 16,
      "outputs": [
        {
          "output_type": "stream",
          "name": "stdout",
          "text": [
            "enter a value5\n",
            "enter b value8\n",
            "13\n"
          ]
        }
      ]
    },
    {
      "cell_type": "code",
      "source": [
        "def add(a,b):\n",
        "  print(a)\n",
        "  print(b)\n",
        "x=10\n",
        "y=20\n",
        "add(y,x)\n",
        "add(x,y)\n",
        "add(x+y)\n",
        "add(y+x)\n",
        "add(x,y)"
      ],
      "metadata": {
        "colab": {
          "base_uri": "https://localhost:8080/",
          "height": 280
        },
        "id": "-Xa38Q1Xl7BK",
        "outputId": "5b335668-1b3f-4f9d-839f-49a1ea498406"
      },
      "execution_count": 22,
      "outputs": [
        {
          "output_type": "stream",
          "name": "stdout",
          "text": [
            "20\n",
            "10\n",
            "10\n",
            "20\n"
          ]
        },
        {
          "output_type": "error",
          "ename": "TypeError",
          "evalue": "add() missing 1 required positional argument: 'b'",
          "traceback": [
            "\u001b[0;31m---------------------------------------------------------------------------\u001b[0m",
            "\u001b[0;31mTypeError\u001b[0m                                 Traceback (most recent call last)",
            "\u001b[0;32m/tmp/ipython-input-1241683479.py\u001b[0m in \u001b[0;36m<cell line: 0>\u001b[0;34m()\u001b[0m\n\u001b[1;32m      6\u001b[0m \u001b[0madd\u001b[0m\u001b[0;34m(\u001b[0m\u001b[0my\u001b[0m\u001b[0;34m,\u001b[0m\u001b[0mx\u001b[0m\u001b[0;34m)\u001b[0m\u001b[0;34m\u001b[0m\u001b[0;34m\u001b[0m\u001b[0m\n\u001b[1;32m      7\u001b[0m \u001b[0madd\u001b[0m\u001b[0;34m(\u001b[0m\u001b[0mx\u001b[0m\u001b[0;34m,\u001b[0m\u001b[0my\u001b[0m\u001b[0;34m)\u001b[0m\u001b[0;34m\u001b[0m\u001b[0;34m\u001b[0m\u001b[0m\n\u001b[0;32m----> 8\u001b[0;31m \u001b[0madd\u001b[0m\u001b[0;34m(\u001b[0m\u001b[0mx\u001b[0m\u001b[0;34m+\u001b[0m\u001b[0my\u001b[0m\u001b[0;34m)\u001b[0m\u001b[0;34m\u001b[0m\u001b[0;34m\u001b[0m\u001b[0m\n\u001b[0m\u001b[1;32m      9\u001b[0m \u001b[0madd\u001b[0m\u001b[0;34m(\u001b[0m\u001b[0my\u001b[0m\u001b[0;34m+\u001b[0m\u001b[0mx\u001b[0m\u001b[0;34m)\u001b[0m\u001b[0;34m\u001b[0m\u001b[0;34m\u001b[0m\u001b[0m\n\u001b[1;32m     10\u001b[0m \u001b[0madd\u001b[0m\u001b[0;34m(\u001b[0m\u001b[0mx\u001b[0m\u001b[0;34m,\u001b[0m\u001b[0my\u001b[0m\u001b[0;34m)\u001b[0m\u001b[0;34m\u001b[0m\u001b[0;34m\u001b[0m\u001b[0m\n",
            "\u001b[0;31mTypeError\u001b[0m: add() missing 1 required positional argument: 'b'"
          ]
        }
      ]
    },
    {
      "cell_type": "code",
      "source": [
        "c=500\n",
        "def add(c,d):\n",
        "  print(c)\n",
        "  print(d)\n",
        "add(x,y)\n",
        "add(y,x)\n",
        "print(c)"
      ],
      "metadata": {
        "colab": {
          "base_uri": "https://localhost:8080/"
        },
        "id": "344FyV8am-RN",
        "outputId": "746f3335-01c9-474e-c9cf-5974277fbe29"
      },
      "execution_count": 23,
      "outputs": [
        {
          "output_type": "stream",
          "name": "stdout",
          "text": [
            "10\n",
            "20\n",
            "20\n",
            "10\n",
            "500\n"
          ]
        }
      ]
    },
    {
      "cell_type": "code",
      "source": [
        "def add(a,b):\n",
        "  print(a)\n",
        "  print(b)\n",
        "x=10\n",
        "y=20\n",
        "add(y,x)\n",
        "add(x,y)\n",
        "add(a=y,b=x)\n"
      ],
      "metadata": {
        "colab": {
          "base_uri": "https://localhost:8080/"
        },
        "id": "tKrfXXainit3",
        "outputId": "a3b9878d-9854-4e0d-c33d-5122a843f0cd"
      },
      "execution_count": 57,
      "outputs": [
        {
          "output_type": "stream",
          "name": "stdout",
          "text": [
            "20\n",
            "10\n",
            "10\n",
            "20\n",
            "20\n",
            "10\n"
          ]
        }
      ]
    },
    {
      "cell_type": "markdown",
      "source": [],
      "metadata": {
        "id": "752w0dkSniVh"
      }
    },
    {
      "cell_type": "code",
      "source": [
        "def add(a, b):\n",
        "    return a + b\n",
        "\n",
        "print(add(5,6))"
      ],
      "metadata": {
        "colab": {
          "base_uri": "https://localhost:8080/"
        },
        "id": "VGwEIQ4qpqUW",
        "outputId": "3de30d9f-b90c-491d-a269-9b9b8770b1f7"
      },
      "execution_count": 31,
      "outputs": [
        {
          "output_type": "stream",
          "name": "stdout",
          "text": [
            "11\n"
          ]
        }
      ]
    },
    {
      "cell_type": "code",
      "source": [
        "def add(a, b):\n",
        "    return a + b\n",
        "x=add(5,6)\n",
        "print(x+30)"
      ],
      "metadata": {
        "colab": {
          "base_uri": "https://localhost:8080/"
        },
        "id": "RPS5AnZrqXqV",
        "outputId": "e234a5cf-781c-4f24-95c6-c460cfb7a8d9"
      },
      "execution_count": 32,
      "outputs": [
        {
          "output_type": "stream",
          "name": "stdout",
          "text": [
            "41\n"
          ]
        }
      ]
    },
    {
      "cell_type": "code",
      "source": [
        "def add(a,b):\n",
        "  return a+b\n",
        "def sub(a,b):\n",
        "  return(a-b)\n",
        "def multiple(a,b):\n",
        "  return(a*b)\n",
        "def div(a,b):\n",
        "  return(a/b)\n",
        "def cal(a,b,opp):\n",
        "  if opp==1:\n",
        "     return add(a,b)\n",
        "  elif opp==2:\n",
        "     return sub(a,b)\n",
        "  elif opp==3:\n",
        "     return multiple(a,b)\n",
        "  elif opp==4:\n",
        "     return div(a,b)\n",
        "  else:\n",
        "      return 'wrong operator'\n",
        "x=int(input(\"enter x value\"))\n",
        "y=int(input(\"enter y value\"))\n",
        "print(\"enter 1 to add \\n enter 2 to sun  \\n enter 3 to multiple \\n enter 4 to division\")\n",
        "z=int(input(\"enter operator\"))\n",
        "r=cal(x,y,z)\n",
        "print(r)"
      ],
      "metadata": {
        "colab": {
          "base_uri": "https://localhost:8080/"
        },
        "id": "gI8Hfr9L5Lmh",
        "outputId": "448b3fab-0a05-4124-b0b8-3e55b892c8a8"
      },
      "execution_count": 60,
      "outputs": [
        {
          "output_type": "stream",
          "name": "stdout",
          "text": [
            "enter x value4\n",
            "enter y value3\n",
            "enter 1 to add \n",
            " enter 2 to sun  \n",
            " enter 3 to multiple \n",
            " enter 4 to division\n",
            "enter operator3\n",
            "12\n"
          ]
        }
      ]
    },
    {
      "cell_type": "code",
      "source": [
        "def my_function(opp):\n",
        "  if opp==1:\n",
        "     return \"expresso\"\n",
        "  elif opp==2:\n",
        "     return \"latte\"\n",
        "  elif opp==3:\n",
        "     return \"cappuccion\"\n",
        "  elif opp==4:\n",
        "     return \"macchiato\"\n",
        "  else:\n",
        "      return 'not available'\n",
        "print(\"enter 1 to expresso \\n enter 2 to latte \\n enter 3 to cappuccion \\n enter 4 to macchiato\")\n",
        "z=int(input(\"enter operator\"))\n",
        "r=my_function(z)\n",
        "print(r)"
      ],
      "metadata": {
        "colab": {
          "base_uri": "https://localhost:8080/"
        },
        "id": "Z0N42xoB9eBc",
        "outputId": "1100d9c2-5469-4e92-9163-eb0c05d62b5a"
      },
      "execution_count": 77,
      "outputs": [
        {
          "output_type": "stream",
          "name": "stdout",
          "text": [
            "enter 1 to expresso \n",
            " enter 2 to latte \n",
            " enter 3 to cappuccion \n",
            " enter 4 to macchiato\n",
            "enter operator2\n",
            "latte\n"
          ]
        }
      ]
    },
    {
      "cell_type": "code",
      "source": [
        "def is_on (opp):\n",
        "   if opp==1:\n",
        "     print (\"start\")\n",
        "   elif opp==2:\n",
        "     print (\"stop\")\n",
        "   elif opp==3:\n",
        "    print(\"no output\")\n",
        "z=int(input(\"enter operator\"))\n",
        "is_on(z)\n",
        "\n",
        "r=my_function(c)\n",
        ""
      ],
      "metadata": {
        "colab": {
          "base_uri": "https://localhost:8080/"
        },
        "id": "zMAcFJHG_zhK",
        "outputId": "870b0b71-a239-4290-ea6c-d16c4331b1c1"
      },
      "execution_count": 123,
      "outputs": [
        {
          "output_type": "stream",
          "name": "stdout",
          "text": [
            "enter operator1\n",
            "start\n"
          ]
        }
      ]
    }
  ]
}