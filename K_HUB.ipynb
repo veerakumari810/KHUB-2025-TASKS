{
  "nbformat": 4,
  "nbformat_minor": 0,
  "metadata": {
    "colab": {
      "provenance": [],
      "authorship_tag": "ABX9TyPGsHpoCh7YWa2SR3guS4z9",
      "include_colab_link": true
    },
    "kernelspec": {
      "name": "python3",
      "display_name": "Python 3"
    },
    "language_info": {
      "name": "python"
    }
  },
  "cells": [
    {
      "cell_type": "markdown",
      "metadata": {
        "id": "view-in-github",
        "colab_type": "text"
      },
      "source": [
        "<a href=\"https://colab.research.google.com/github/veerakumari810/KHUB-2025-TASKS/blob/main/K_HUB.ipynb\" target=\"_parent\"><img src=\"https://colab.research.google.com/assets/colab-badge.svg\" alt=\"Open In Colab\"/></a>"
      ]
    },
    {
      "cell_type": "markdown",
      "source": [
        "03/08/25"
      ],
      "metadata": {
        "id": "RDkrEJDgHYVX"
      }
    },
    {
      "cell_type": "markdown",
      "source": [
        "print first and last character of a string"
      ],
      "metadata": {
        "id": "k6RkR5ZPH_jL"
      }
    },
    {
      "cell_type": "code",
      "source": [
        "text=\"python\"\n",
        "print(\"frist letter\",text[0])\n",
        "print(\"last number\",text [5])\n"
      ],
      "metadata": {
        "colab": {
          "base_uri": "https://localhost:8080/"
        },
        "id": "Nz2cSrkdIUaM",
        "outputId": "216cdddd-4263-4299-d58f-b076735b66a5"
      },
      "execution_count": null,
      "outputs": [
        {
          "output_type": "stream",
          "name": "stdout",
          "text": [
            "frist letter p\n",
            "last number n\n"
          ]
        }
      ]
    },
    {
      "cell_type": "markdown",
      "source": [
        "count the number of strings in character"
      ],
      "metadata": {
        "id": "b_mY8EFGMphJ"
      }
    },
    {
      "cell_type": "code",
      "source": [
        "text=(\"veerakumari\")\n",
        "print(len(text))"
      ],
      "metadata": {
        "colab": {
          "base_uri": "https://localhost:8080/"
        },
        "id": "GpqLviBeM21F",
        "outputId": "10271646-4111-4e86-cf18-990d68049bd2"
      },
      "execution_count": null,
      "outputs": [
        {
          "output_type": "stream",
          "name": "stdout",
          "text": [
            "11\n"
          ]
        }
      ]
    },
    {
      "cell_type": "markdown",
      "source": [
        "convert a string to uppercase"
      ],
      "metadata": {
        "id": "7NZoYVQaNdVO"
      }
    },
    {
      "cell_type": "code",
      "source": [
        "a=\"PYTHON\"\n",
        "print(a.lower())"
      ],
      "metadata": {
        "colab": {
          "base_uri": "https://localhost:8080/"
        },
        "id": "IW_lIFuQNhNT",
        "outputId": "4a9882f1-c7b8-4a02-a4f7-1b1ef1ed605d"
      },
      "execution_count": null,
      "outputs": [
        {
          "output_type": "stream",
          "name": "stdout",
          "text": [
            "python\n"
          ]
        }
      ]
    },
    {
      "cell_type": "markdown",
      "source": [
        "add two strings\n"
      ],
      "metadata": {
        "id": "Pr3Max0_OVvz"
      }
    },
    {
      "cell_type": "code",
      "source": [
        "text1=\"veera\"\n",
        "text2=\"kumari\"\n",
        "result=text1+text2\n",
        "print(result)"
      ],
      "metadata": {
        "colab": {
          "base_uri": "https://localhost:8080/"
        },
        "id": "sIcBE_X6OpeP",
        "outputId": "ad2ccda1-0884-4d14-a936-101b6c4964b9"
      },
      "execution_count": null,
      "outputs": [
        {
          "output_type": "stream",
          "name": "stdout",
          "text": [
            "veerakumari\n"
          ]
        }
      ]
    },
    {
      "cell_type": "markdown",
      "source": [
        "capitalize only first lettr upper case"
      ],
      "metadata": {
        "id": "8oIfBf6ERlIR"
      }
    },
    {
      "cell_type": "code",
      "source": [
        "txt = \"veera kumari\"\n",
        "a = txt.capitalize()\n",
        "print (a)\n"
      ],
      "metadata": {
        "colab": {
          "base_uri": "https://localhost:8080/"
        },
        "id": "PPbXJEpORwKB",
        "outputId": "d3f9f722-601e-4e7a-ccae-1fff1c07e21b"
      },
      "execution_count": null,
      "outputs": [
        {
          "output_type": "stream",
          "name": "stdout",
          "text": [
            "Veera kumari\n"
          ]
        }
      ]
    },
    {
      "cell_type": "markdown",
      "source": [
        "caseflod all string letter are samll"
      ],
      "metadata": {
        "id": "Gv4lDiHHSdN3"
      }
    },
    {
      "cell_type": "code",
      "source": [
        "txt = \"VEERA KUMARI\"\n",
        "x = txt.casefold()\n",
        "print(x)"
      ],
      "metadata": {
        "colab": {
          "base_uri": "https://localhost:8080/"
        },
        "id": "K1MSNNJhS-3L",
        "outputId": "bada6e4b-819b-4e81-ca44-a0763ca22f7b"
      },
      "execution_count": null,
      "outputs": [
        {
          "output_type": "stream",
          "name": "stdout",
          "text": [
            "veera kumari\n"
          ]
        }
      ]
    },
    {
      "cell_type": "markdown",
      "source": [
        "center return a centered string"
      ],
      "metadata": {
        "id": "f0wXcbqwTnJx"
      }
    },
    {
      "cell_type": "code",
      "source": [
        "txt = \"banana\"\n",
        "x = txt.center(30)\n",
        "print(x)\n"
      ],
      "metadata": {
        "colab": {
          "base_uri": "https://localhost:8080/"
        },
        "id": "M_4tVGk9TzSY",
        "outputId": "44b3f279-9ad8-4e49-c1db-5e9e6a515101"
      },
      "execution_count": null,
      "outputs": [
        {
          "output_type": "stream",
          "name": "stdout",
          "text": [
            "            banana            \n"
          ]
        }
      ]
    },
    {
      "cell_type": "markdown",
      "source": [
        "count returns the number of times a specified values in a string"
      ],
      "metadata": {
        "id": "dOJ0MnBvUqLG"
      }
    },
    {
      "cell_type": "code",
      "source": [
        "txt = \"I love apples,apple, apple are my favorite fruit\"\n",
        "x = txt.count(\"apple\")\n",
        "print(x)\n",
        "\n"
      ],
      "metadata": {
        "colab": {
          "base_uri": "https://localhost:8080/"
        },
        "id": "4pgMabU5VU5x",
        "outputId": "205665c1-9c53-4a09-da9e-b13cb3adc388"
      },
      "execution_count": null,
      "outputs": [
        {
          "output_type": "stream",
          "name": "stdout",
          "text": [
            "3\n"
          ]
        }
      ]
    },
    {
      "cell_type": "markdown",
      "source": [],
      "metadata": {
        "id": "Rdyc4aKlT-x_"
      }
    },
    {
      "cell_type": "markdown",
      "source": [
        "endswitch"
      ],
      "metadata": {
        "id": "RFrBzZZqXP2V"
      }
    },
    {
      "cell_type": "code",
      "source": [
        "txt = \"veera kumari\"\n",
        "x = txt.endswith(\"i\")\n",
        "print(x)\n"
      ],
      "metadata": {
        "colab": {
          "base_uri": "https://localhost:8080/"
        },
        "id": "1etAqjakXSK5",
        "outputId": "6b623de6-90cc-46e4-e0cc-0538b9521c17"
      },
      "execution_count": null,
      "outputs": [
        {
          "output_type": "stream",
          "name": "stdout",
          "text": [
            "True\n"
          ]
        }
      ]
    },
    {
      "cell_type": "markdown",
      "source": [
        "expandtabs"
      ],
      "metadata": {
        "id": "mmJM_Q2dZGhE"
      }
    },
    {
      "cell_type": "code",
      "source": [
        "txt = \"v\\te\\te\\tr\\ta\\tk\\tu\\tm\\ta\\tr\\ti\"\n",
        "x =  txt.expandtabs(2)\n",
        "print(x)"
      ],
      "metadata": {
        "colab": {
          "base_uri": "https://localhost:8080/"
        },
        "id": "6wDnB9d0ZODo",
        "outputId": "97bde721-a2ed-49ba-e350-dc607b4a3b54"
      },
      "execution_count": null,
      "outputs": [
        {
          "output_type": "stream",
          "name": "stdout",
          "text": [
            "v e e r a k u m a r i\n"
          ]
        }
      ]
    },
    {
      "cell_type": "markdown",
      "source": [
        "find()"
      ],
      "metadata": {
        "id": "I-Q3vj7DcEgR"
      }
    },
    {
      "cell_type": "code",
      "source": [
        "txt = \"veera kumari\"\n",
        "x = txt.find(\"k\")\n",
        "print(x)\n"
      ],
      "metadata": {
        "colab": {
          "base_uri": "https://localhost:8080/"
        },
        "id": "cpUWGl38cGzo",
        "outputId": "8a76c3e6-e558-4acf-c3e8-952614f32d68"
      },
      "execution_count": null,
      "outputs": [
        {
          "output_type": "stream",
          "name": "stdout",
          "text": [
            "6\n"
          ]
        }
      ]
    },
    {
      "cell_type": "markdown",
      "source": [
        "format()"
      ],
      "metadata": {
        "id": "unuIn34deSFl"
      }
    },
    {
      "cell_type": "code",
      "source": [
        "txt = \"For only {price} dollars!\"\n",
        "print(txt.format(price = 49))\n"
      ],
      "metadata": {
        "colab": {
          "base_uri": "https://localhost:8080/"
        },
        "id": "KL3eoUCfeU2x",
        "outputId": "0a2ebdeb-4209-4fa5-a484-3e95a4aa118a"
      },
      "execution_count": null,
      "outputs": [
        {
          "output_type": "stream",
          "name": "stdout",
          "text": [
            "For only 49 dollars\n"
          ]
        }
      ]
    },
    {
      "cell_type": "markdown",
      "source": [
        "Boolean"
      ],
      "metadata": {
        "id": "33zZREDGWJ8u"
      }
    },
    {
      "cell_type": "code",
      "source": [
        "print(10 > 9)\n",
        "print(10 == 9)\n",
        "print(10 < 9)\n"
      ],
      "metadata": {
        "colab": {
          "base_uri": "https://localhost:8080/"
        },
        "id": "G271qrU3WN6a",
        "outputId": "b89523ec-b63c-4bbd-d763-c818b0304692"
      },
      "execution_count": null,
      "outputs": [
        {
          "output_type": "stream",
          "name": "stdout",
          "text": [
            "True\n",
            "False\n",
            "False\n"
          ]
        }
      ]
    },
    {
      "cell_type": "markdown",
      "source": [
        "greater or not"
      ],
      "metadata": {
        "id": "CG04g_GTXTZe"
      }
    },
    {
      "cell_type": "code",
      "source": [
        "a = 200\n",
        "b = 33\n",
        "if b > a:\n",
        "  print(\"b is greater than a\")\n",
        "else:\n",
        "  print(\"b is not greater than a\")\n"
      ],
      "metadata": {
        "colab": {
          "base_uri": "https://localhost:8080/"
        },
        "id": "8QPQg2F6XYft",
        "outputId": "e7ae776d-575d-487a-b555-ddbb8ff36b34"
      },
      "execution_count": null,
      "outputs": [
        {
          "output_type": "stream",
          "name": "stdout",
          "text": [
            "b is not greater than a\n"
          ]
        }
      ]
    },
    {
      "cell_type": "markdown",
      "source": [
        "Arithmetic operations"
      ],
      "metadata": {
        "id": "_1Sq0Ux8hyAL"
      }
    },
    {
      "cell_type": "code",
      "source": [
        "a=4\n",
        "b=2\n",
        "c=a+b\n",
        "print(c)\n",
        "\n",
        "c=a-b\n",
        "print(c)\n",
        "\n",
        "c=a*b\n",
        "print(c)\n",
        "\n",
        "c=a/b\n",
        "print(c)\n",
        "\n",
        "c=a%b\n",
        "print(c)\n",
        "\n",
        "c=a**b\n",
        "print(c)\n",
        "\n",
        "c=a//b\n",
        "print(c)"
      ],
      "metadata": {
        "colab": {
          "base_uri": "https://localhost:8080/"
        },
        "id": "U_TW2uPiiU6Z",
        "outputId": "fb450aff-6a44-4d55-83b5-5c0e94119a0e"
      },
      "execution_count": null,
      "outputs": [
        {
          "output_type": "stream",
          "name": "stdout",
          "text": [
            "6\n",
            "2\n",
            "8\n",
            "2.0\n",
            "0\n",
            "16\n",
            "2\n"
          ]
        }
      ]
    },
    {
      "cell_type": "markdown",
      "source": [
        "comparision and relational operations"
      ],
      "metadata": {
        "id": "hHAL2NT2jW6m"
      }
    },
    {
      "cell_type": "code",
      "source": [
        "x=5\n",
        "y=8\n",
        "print(x==y)\n",
        "print(x!=y)\n",
        "print(x>y)\n",
        "print(x<y)\n",
        "print(x>=y)\n",
        "print(x<=y)"
      ],
      "metadata": {
        "colab": {
          "base_uri": "https://localhost:8080/"
        },
        "id": "7JHYlQ0tjddg",
        "outputId": "4c1800b3-55e9-47d6-cfcc-6988ee1592f1"
      },
      "execution_count": null,
      "outputs": [
        {
          "output_type": "stream",
          "name": "stdout",
          "text": [
            "False\n",
            "True\n",
            "False\n",
            "True\n",
            "False\n",
            "True\n"
          ]
        }
      ]
    },
    {
      "cell_type": "markdown",
      "source": [
        "Assigenment operations"
      ],
      "metadata": {
        "id": "DgrLzkpYj43l"
      }
    },
    {
      "cell_type": "code",
      "source": [
        "x=5\n",
        "x+=2\n",
        "print(x)\n",
        "x-=1\n",
        "print(x)\n",
        "x*=3\n",
        "print(x)\n",
        "x/=2\n",
        "print(2)\n"
      ],
      "metadata": {
        "colab": {
          "base_uri": "https://localhost:8080/"
        },
        "id": "-UToBBo1j8aP",
        "outputId": "7363664b-d08a-4caf-8b76-a7d457006538"
      },
      "execution_count": null,
      "outputs": [
        {
          "output_type": "stream",
          "name": "stdout",
          "text": [
            "7\n",
            "6\n",
            "18\n",
            "2\n"
          ]
        }
      ]
    },
    {
      "cell_type": "markdown",
      "source": [
        "logical operators"
      ],
      "metadata": {
        "id": "eWLuedxYmhpH"
      }
    },
    {
      "cell_type": "code",
      "source": [
        "x = 10\n",
        "y = 5\n",
        "\n",
        "if x > 5 and y < 10:\n",
        "    print(\"both conditions are true\")\n",
        "\n",
        "x = 10"
      ],
      "metadata": {
        "colab": {
          "base_uri": "https://localhost:8080/"
        },
        "id": "eZ0jB5M7mlV3",
        "outputId": "d2423d5d-8af7-41b1-9850-358dc68d6d24"
      },
      "execution_count": null,
      "outputs": [
        {
          "output_type": "stream",
          "name": "stdout",
          "text": [
            "both conditions are true\n"
          ]
        }
      ]
    },
    {
      "cell_type": "markdown",
      "source": [
        "bitwise operators"
      ],
      "metadata": {
        "id": "62_2wt86qvjl"
      }
    },
    {
      "cell_type": "code",
      "source": [
        "x=5\n",
        "y=3\n",
        "\n",
        "x=(x&y)\n",
        "print(x)\n",
        "x=(x|y)\n",
        "print(x)\n",
        "x=(x^y)\n",
        "print(x)"
      ],
      "metadata": {
        "id": "fv2Cv0Mvq0st",
        "colab": {
          "base_uri": "https://localhost:8080/"
        },
        "outputId": "2c9de161-a12f-4b1d-b8b8-42c449bd9445"
      },
      "execution_count": null,
      "outputs": [
        {
          "output_type": "stream",
          "name": "stdout",
          "text": [
            "1\n",
            "3\n",
            "0\n"
          ]
        }
      ]
    },
    {
      "cell_type": "markdown",
      "source": [
        "identity operators"
      ],
      "metadata": {
        "id": "xMxkms8yZvr3"
      }
    },
    {
      "cell_type": "code",
      "source": [
        "a=[1,2]\n",
        "b=a\n",
        "c=[1,2]\n",
        "print(a is b)\n",
        "print(a is c)\n",
        "print(a is not c)\n"
      ],
      "metadata": {
        "colab": {
          "base_uri": "https://localhost:8080/"
        },
        "id": "hYOZyvzTZ1Dd",
        "outputId": "3425e886-bd51-489b-8f25-04c56bfe2cb9"
      },
      "execution_count": null,
      "outputs": [
        {
          "output_type": "stream",
          "name": "stdout",
          "text": [
            "True\n",
            "False\n",
            "True\n"
          ]
        }
      ]
    },
    {
      "cell_type": "markdown",
      "source": [],
      "metadata": {
        "id": "7N4r4r6TqmNv"
      }
    },
    {
      "cell_type": "markdown",
      "source": [
        "lists"
      ],
      "metadata": {
        "id": "_UPCRaUWZ5Hs"
      }
    },
    {
      "cell_type": "code",
      "source": [
        "friuts=[\"apple\",\"banana\",\"cherry\"]\n",
        "print(friuts[0])\n",
        "friuts[1]=\"banana\"\n",
        "print(friuts)\n",
        "print(len(friuts))\n",
        "friuts.append(\"orange\")\n",
        "print(friuts)"
      ],
      "metadata": {
        "colab": {
          "base_uri": "https://localhost:8080/"
        },
        "id": "xRDycH45Z6hO",
        "outputId": "48a5b713-634e-4ec8-babc-6094d753c46a"
      },
      "execution_count": null,
      "outputs": [
        {
          "output_type": "stream",
          "name": "stdout",
          "text": [
            "apple\n",
            "['apple', 'banana', 'cherry']\n",
            "3\n",
            "['apple', 'banana', 'cherry', 'orange']\n"
          ]
        }
      ]
    },
    {
      "cell_type": "markdown",
      "source": [
        "common tuples"
      ],
      "metadata": {
        "id": "f_T3QZjzaCt-"
      }
    },
    {
      "cell_type": "code",
      "source": [
        "colors=(\"red\",\"green\",\"blue\")\n",
        "n=colors.count(\"green\")\n",
        "print(n)\n",
        "n=colors.index(\"blue\")\n",
        "print(n)\n",
        "\n"
      ],
      "metadata": {
        "colab": {
          "base_uri": "https://localhost:8080/"
        },
        "id": "5dvYRK6HaGEn",
        "outputId": "ecd1d225-7f2f-4ba1-e7ca-ba7cf3a2e438"
      },
      "execution_count": null,
      "outputs": [
        {
          "output_type": "stream",
          "name": "stdout",
          "text": [
            "1\n",
            "2\n"
          ]
        }
      ]
    },
    {
      "cell_type": "markdown",
      "source": [
        "sets"
      ],
      "metadata": {
        "id": "1iGwQ283aM57"
      }
    },
    {
      "cell_type": "code",
      "source": [
        "numbers={1,2,3,4,5}\n",
        "print(numbers)\n",
        "numbers.add(6)\n",
        "print(numbers)\n",
        "numbers.remove(2)\n",
        "print(numbers)"
      ],
      "metadata": {
        "colab": {
          "base_uri": "https://localhost:8080/"
        },
        "id": "1ejk6kf3aOAL",
        "outputId": "e5c1e4ec-ed15-410c-c0df-cac7e2040ee7"
      },
      "execution_count": null,
      "outputs": [
        {
          "output_type": "stream",
          "name": "stdout",
          "text": [
            "{1, 2, 3, 4, 5}\n",
            "{1, 2, 3, 4, 5, 6}\n",
            "{1, 3, 4, 5, 6}\n"
          ]
        }
      ]
    },
    {
      "cell_type": "markdown",
      "source": [
        "# 04/08/25"
      ],
      "metadata": {
        "id": "kkh0ISm_U5v_"
      }
    },
    {
      "cell_type": "markdown",
      "source": [
        "loops"
      ],
      "metadata": {
        "id": "98xCJypEVRTM"
      }
    },
    {
      "cell_type": "markdown",
      "source": [
        "print 1 to 10 numbers"
      ],
      "metadata": {
        "id": "fLe_gNg7Wjek"
      }
    },
    {
      "cell_type": "code",
      "source": [
        "\n",
        "i=1\n",
        "while i <=10:\n",
        " print(i)\n",
        " i+=1\n",
        "\n"
      ],
      "metadata": {
        "colab": {
          "base_uri": "https://localhost:8080/"
        },
        "id": "t1Vz2aRRVAqK",
        "outputId": "0c2fe861-e0ea-4dd8-e7ef-ebfeda21446d"
      },
      "execution_count": null,
      "outputs": [
        {
          "output_type": "stream",
          "name": "stdout",
          "text": [
            "1\n",
            "2\n",
            "3\n",
            "4\n",
            "5\n",
            "6\n",
            "7\n",
            "8\n",
            "9\n",
            "10\n"
          ]
        }
      ]
    },
    {
      "cell_type": "markdown",
      "source": [
        "reverse print 10 to 1\n",
        "\n"
      ],
      "metadata": {
        "id": "-M0Ilz2TVfoz"
      }
    },
    {
      "cell_type": "code",
      "source": [
        "i=10\n",
        "while i >=1:\n",
        "  print(i)\n",
        "  i-=1"
      ],
      "metadata": {
        "colab": {
          "base_uri": "https://localhost:8080/"
        },
        "id": "gw1toAzBViJ4",
        "outputId": "38b8aeb3-a4c0-4c4e-a4f3-5c64733fca11"
      },
      "execution_count": null,
      "outputs": [
        {
          "output_type": "stream",
          "name": "stdout",
          "text": [
            "10\n",
            "9\n",
            "8\n",
            "7\n",
            "6\n",
            "5\n",
            "4\n",
            "3\n",
            "2\n",
            "1\n"
          ]
        }
      ]
    },
    {
      "cell_type": "markdown",
      "source": [
        "print even numbers 1 to 20"
      ],
      "metadata": {
        "id": "ir8f9JerVp07"
      }
    },
    {
      "cell_type": "code",
      "source": [
        "\n",
        "i=2\n",
        "while i < 20:\n",
        "  print(i)\n",
        "  i+=2"
      ],
      "metadata": {
        "colab": {
          "base_uri": "https://localhost:8080/"
        },
        "id": "OtkTyihNVtvD",
        "outputId": "b236f39f-a98d-4a99-991c-95c556c2d007"
      },
      "execution_count": null,
      "outputs": [
        {
          "output_type": "stream",
          "name": "stdout",
          "text": [
            "2\n",
            "4\n",
            "6\n",
            "8\n",
            "10\n",
            "12\n",
            "14\n",
            "16\n",
            "18\n"
          ]
        }
      ]
    },
    {
      "cell_type": "markdown",
      "source": [
        "print odd number 1 to 30"
      ],
      "metadata": {
        "id": "js7QkXWuVywO"
      }
    },
    {
      "cell_type": "code",
      "source": [
        "\n",
        "i=1\n",
        "while i < 20:\n",
        "  print(i)\n",
        "  i+=2\n",
        "\n"
      ],
      "metadata": {
        "colab": {
          "base_uri": "https://localhost:8080/"
        },
        "id": "FAL8dZFbVyTy",
        "outputId": "6116f3aa-f2d8-43bb-9ff6-652e1b599158"
      },
      "execution_count": null,
      "outputs": [
        {
          "output_type": "stream",
          "name": "stdout",
          "text": [
            "1\n",
            "3\n",
            "5\n",
            "7\n",
            "9\n",
            "11\n",
            "13\n",
            "15\n",
            "17\n",
            "19\n"
          ]
        }
      ]
    },
    {
      "cell_type": "markdown",
      "source": [
        "sum of natural numbers N=10"
      ],
      "metadata": {
        "id": "kYUFS0jDV31y"
      }
    },
    {
      "cell_type": "code",
      "source": [
        "\n",
        "n=10\n",
        "i=1\n",
        "total=0\n",
        "while i<=n:\n",
        "  total+=i\n",
        "  i+=1\n",
        "  print(total)\n",
        "\n"
      ],
      "metadata": {
        "colab": {
          "base_uri": "https://localhost:8080/"
        },
        "id": "AM5pvWjpV8Bk",
        "outputId": "da429093-0a60-42ff-bb96-5d0d6cd7c87b"
      },
      "execution_count": null,
      "outputs": [
        {
          "output_type": "stream",
          "name": "stdout",
          "text": [
            "1\n",
            "3\n",
            "6\n",
            "10\n",
            "15\n",
            "21\n",
            "28\n",
            "36\n",
            "45\n",
            "55\n"
          ]
        }
      ]
    },
    {
      "cell_type": "markdown",
      "source": [
        "multiplication table of a number"
      ],
      "metadata": {
        "id": "X3FelegsWBnA"
      }
    },
    {
      "cell_type": "code",
      "source": [
        "num=10\n",
        "i=1\n",
        "while i<=5:\n",
        "  print(num,\"*\",i,\"=\",num*i)\n",
        "  i+=1\n",
        "\n"
      ],
      "metadata": {
        "colab": {
          "base_uri": "https://localhost:8080/"
        },
        "id": "jPeuCCMGWFCS",
        "outputId": "6ede86c7-fb16-4be5-8ccc-282e06b43fab"
      },
      "execution_count": null,
      "outputs": [
        {
          "output_type": "stream",
          "name": "stdout",
          "text": [
            "10 * 1 = 10\n",
            "10 * 2 = 20\n",
            "10 * 3 = 30\n",
            "10 * 4 = 40\n",
            "10 * 5 = 50\n"
          ]
        }
      ]
    },
    {
      "cell_type": "markdown",
      "source": [
        "reverse a number"
      ],
      "metadata": {
        "id": "DuW33Q2LWO6W"
      }
    },
    {
      "cell_type": "code",
      "source": [
        "num=1234\n",
        "rev=0\n",
        "while num >0:\n",
        "  rev=rev*10+num%10\n",
        "  num=num//10\n",
        "print(rev)\n"
      ],
      "metadata": {
        "colab": {
          "base_uri": "https://localhost:8080/"
        },
        "id": "7B7S_7R9WTkB",
        "outputId": "fa4bbdcc-3125-4025-b405-6d9b68f638c8"
      },
      "execution_count": null,
      "outputs": [
        {
          "output_type": "stream",
          "name": "stdout",
          "text": [
            "4321\n"
          ]
        }
      ]
    },
    {
      "cell_type": "markdown",
      "source": [
        "Count digits in a number\n"
      ],
      "metadata": {
        "id": "BEpik0caW7ZB"
      }
    },
    {
      "cell_type": "code",
      "source": [
        "num = 7865\n",
        "count = 0\n",
        "while num > 0:\n",
        "    num = num // 10\n",
        "    count += 1\n",
        "print( count)"
      ],
      "metadata": {
        "colab": {
          "base_uri": "https://localhost:8080/"
        },
        "id": "z-H6hV1cW-WX",
        "outputId": "fb125a32-1cd8-4e69-e1e8-97e8d40bbed2"
      },
      "execution_count": null,
      "outputs": [
        {
          "output_type": "stream",
          "name": "stdout",
          "text": [
            "4\n"
          ]
        }
      ]
    },
    {
      "cell_type": "markdown",
      "source": [
        "Check palindrome number"
      ],
      "metadata": {
        "id": "iHrrP83Ef3jd"
      }
    },
    {
      "cell_type": "code",
      "source": [
        "num = 121\n",
        "temp = num\n",
        "rev = 0\n",
        "while num > 0:\n",
        "    rev = rev * 10 + num % 10\n",
        "    num = num // 10\n",
        "if temp == rev:\n",
        "    print(\"Palindrome\")\n",
        "else:\n",
        "    print(\"Not Palindrome\")"
      ],
      "metadata": {
        "colab": {
          "base_uri": "https://localhost:8080/"
        },
        "id": "zf3AZyv9f7r9",
        "outputId": "baa1fcaa-24ce-4a69-ea92-5111b1cd53b5"
      },
      "execution_count": 11,
      "outputs": [
        {
          "output_type": "stream",
          "name": "stdout",
          "text": [
            "Palindrome\n"
          ]
        }
      ]
    },
    {
      "cell_type": "markdown",
      "source": [
        "Sum of digits"
      ],
      "metadata": {
        "id": "cz738qgSgImA"
      }
    },
    {
      "cell_type": "code",
      "source": [
        "num = 1234\n",
        "total = 0\n",
        "while num > 0:\n",
        "    total += num % 10\n",
        "    num = num // 10\n",
        "print( total)"
      ],
      "metadata": {
        "colab": {
          "base_uri": "https://localhost:8080/"
        },
        "id": "684x3BYNgXAp",
        "outputId": "788c2996-a8b6-4189-c86b-cd1fff8e4dc9"
      },
      "execution_count": 13,
      "outputs": [
        {
          "output_type": "stream",
          "name": "stdout",
          "text": [
            "10\n"
          ]
        }
      ]
    },
    {
      "cell_type": "markdown",
      "source": [
        "Factorial of a number"
      ],
      "metadata": {
        "id": "DkqNW9F3gxhv"
      }
    },
    {
      "cell_type": "code",
      "source": [
        "n = 5\n",
        "fact = 1\n",
        "i = 1\n",
        "while i <= n:\n",
        "    fact *= i\n",
        "    i += 1\n",
        "print( fact)"
      ],
      "metadata": {
        "colab": {
          "base_uri": "https://localhost:8080/"
        },
        "id": "6v58lq4Bgy-p",
        "outputId": "c50b610a-4c99-4db1-8843-478d76e9dc24"
      },
      "execution_count": 15,
      "outputs": [
        {
          "output_type": "stream",
          "name": "stdout",
          "text": [
            "120\n"
          ]
        }
      ]
    },
    {
      "cell_type": "markdown",
      "source": [
        ". Pattern Printing"
      ],
      "metadata": {
        "id": "ktybxodnhCv7"
      }
    },
    {
      "cell_type": "code",
      "source": [
        "i = 1\n",
        "while i <= 5:\n",
        "    print(\"*\" * i)\n",
        "    i += 1\n"
      ],
      "metadata": {
        "colab": {
          "base_uri": "https://localhost:8080/"
        },
        "id": "l6hS9ZdOhFX-",
        "outputId": "9b6250e1-69ff-4706-dd1e-087497f6b2d9"
      },
      "execution_count": 16,
      "outputs": [
        {
          "output_type": "stream",
          "name": "stdout",
          "text": [
            "*\n",
            "**\n",
            "***\n",
            "****\n",
            "*****\n"
          ]
        }
      ]
    },
    {
      "cell_type": "markdown",
      "source": [
        "Print each fruit in a fruit list:"
      ],
      "metadata": {
        "id": "UfTYaNJbkg-Q"
      }
    },
    {
      "cell_type": "markdown",
      "source": [
        "## **For** loop"
      ],
      "metadata": {
        "id": "igjGNMVikyYX"
      }
    },
    {
      "cell_type": "code",
      "source": [
        "fruits = [\"apple\", \"banana\", \"cherry\"]\n",
        "for x in fruits:\n",
        "  print(x)"
      ],
      "metadata": {
        "colab": {
          "base_uri": "https://localhost:8080/"
        },
        "id": "DwXCpeMZkqsc",
        "outputId": "0e19e74b-080f-4fe4-be0e-06d08c64d6b6"
      },
      "execution_count": 17,
      "outputs": [
        {
          "output_type": "stream",
          "name": "stdout",
          "text": [
            "apple\n",
            "banana\n",
            "cherry\n"
          ]
        }
      ]
    },
    {
      "cell_type": "markdown",
      "source": [
        "Print numbers 1 to 5"
      ],
      "metadata": {
        "id": "PIj5SXJal1h1"
      }
    },
    {
      "cell_type": "code",
      "source": [
        "for i in range(1, 6):\n",
        "    print(i)\n"
      ],
      "metadata": {
        "colab": {
          "base_uri": "https://localhost:8080/"
        },
        "id": "WNrHzhGwl6Hr",
        "outputId": "9b584e81-20ee-40c5-9138-1029f3dc89e4"
      },
      "execution_count": 18,
      "outputs": [
        {
          "output_type": "stream",
          "name": "stdout",
          "text": [
            "1\n",
            "2\n",
            "3\n",
            "4\n",
            "5\n"
          ]
        }
      ]
    },
    {
      "cell_type": "markdown",
      "source": [
        "Print characters in a string\n"
      ],
      "metadata": {
        "id": "wftWeaYDmaHM"
      }
    },
    {
      "cell_type": "code",
      "source": [
        "for ch in \"hello\":\n",
        "    print(ch)\n"
      ],
      "metadata": {
        "colab": {
          "base_uri": "https://localhost:8080/"
        },
        "id": "uVA0fXzymQr9",
        "outputId": "183ddffc-349a-4015-d06d-4247fb75a2a9"
      },
      "execution_count": 19,
      "outputs": [
        {
          "output_type": "stream",
          "name": "stdout",
          "text": [
            "h\n",
            "e\n",
            "l\n",
            "l\n",
            "o\n"
          ]
        }
      ]
    }
  ]
}