{
  "cells": [
    {
      "cell_type": "markdown",
      "metadata": {
        "id": "view-in-github",
        "colab_type": "text"
      },
      "source": [
        "<a href=\"https://colab.research.google.com/github/veerakumari810/KHUB-2025-TASKS/blob/main/K_HUB.ipynb\" target=\"_parent\"><img src=\"https://colab.research.google.com/assets/colab-badge.svg\" alt=\"Open In Colab\"/></a>"
      ]
    },
    {
      "cell_type": "markdown",
      "metadata": {
        "id": "RDkrEJDgHYVX"
      },
      "source": [
        "03/08/25"
      ]
    },
    {
      "cell_type": "markdown",
      "metadata": {
        "id": "k6RkR5ZPH_jL"
      },
      "source": [
        "print first and last character of a string"
      ]
    },
    {
      "cell_type": "code",
      "execution_count": null,
      "metadata": {
        "colab": {
          "base_uri": "https://localhost:8080/"
        },
        "id": "Nz2cSrkdIUaM",
        "outputId": "216cdddd-4263-4299-d58f-b076735b66a5"
      },
      "outputs": [
        {
          "name": "stdout",
          "output_type": "stream",
          "text": [
            "frist letter p\n",
            "last number n\n"
          ]
        }
      ],
      "source": [
        "text=\"python\"\n",
        "print(\"frist letter\",text[0])\n",
        "print(\"last number\",text [5])\n"
      ]
    },
    {
      "cell_type": "markdown",
      "metadata": {
        "id": "b_mY8EFGMphJ"
      },
      "source": [
        "count the number of strings in character"
      ]
    },
    {
      "cell_type": "code",
      "execution_count": null,
      "metadata": {
        "colab": {
          "base_uri": "https://localhost:8080/"
        },
        "id": "GpqLviBeM21F",
        "outputId": "10271646-4111-4e86-cf18-990d68049bd2"
      },
      "outputs": [
        {
          "name": "stdout",
          "output_type": "stream",
          "text": [
            "11\n"
          ]
        }
      ],
      "source": [
        "text=(\"veerakumari\")\n",
        "print(len(text))"
      ]
    },
    {
      "cell_type": "markdown",
      "metadata": {
        "id": "7NZoYVQaNdVO"
      },
      "source": [
        "convert a string to uppercase"
      ]
    },
    {
      "cell_type": "code",
      "execution_count": null,
      "metadata": {
        "colab": {
          "base_uri": "https://localhost:8080/"
        },
        "id": "IW_lIFuQNhNT",
        "outputId": "4a9882f1-c7b8-4a02-a4f7-1b1ef1ed605d"
      },
      "outputs": [
        {
          "name": "stdout",
          "output_type": "stream",
          "text": [
            "python\n"
          ]
        }
      ],
      "source": [
        "a=\"PYTHON\"\n",
        "print(a.lower())"
      ]
    },
    {
      "cell_type": "markdown",
      "metadata": {
        "id": "Pr3Max0_OVvz"
      },
      "source": [
        "add two strings\n"
      ]
    },
    {
      "cell_type": "code",
      "execution_count": null,
      "metadata": {
        "colab": {
          "base_uri": "https://localhost:8080/"
        },
        "id": "sIcBE_X6OpeP",
        "outputId": "ad2ccda1-0884-4d14-a936-101b6c4964b9"
      },
      "outputs": [
        {
          "name": "stdout",
          "output_type": "stream",
          "text": [
            "veerakumari\n"
          ]
        }
      ],
      "source": [
        "text1=\"veera\"\n",
        "text2=\"kumari\"\n",
        "result=text1+text2\n",
        "print(result)"
      ]
    },
    {
      "cell_type": "markdown",
      "metadata": {
        "id": "8oIfBf6ERlIR"
      },
      "source": [
        "capitalize only first lettr upper case"
      ]
    },
    {
      "cell_type": "code",
      "execution_count": null,
      "metadata": {
        "colab": {
          "base_uri": "https://localhost:8080/"
        },
        "id": "PPbXJEpORwKB",
        "outputId": "d3f9f722-601e-4e7a-ccae-1fff1c07e21b"
      },
      "outputs": [
        {
          "name": "stdout",
          "output_type": "stream",
          "text": [
            "Veera kumari\n"
          ]
        }
      ],
      "source": [
        "txt = \"veera kumari\"\n",
        "a = txt.capitalize()\n",
        "print (a)\n"
      ]
    },
    {
      "cell_type": "markdown",
      "metadata": {
        "id": "Gv4lDiHHSdN3"
      },
      "source": [
        "caseflod all string letter are samll"
      ]
    },
    {
      "cell_type": "code",
      "execution_count": null,
      "metadata": {
        "colab": {
          "base_uri": "https://localhost:8080/"
        },
        "id": "K1MSNNJhS-3L",
        "outputId": "bada6e4b-819b-4e81-ca44-a0763ca22f7b"
      },
      "outputs": [
        {
          "name": "stdout",
          "output_type": "stream",
          "text": [
            "veera kumari\n"
          ]
        }
      ],
      "source": [
        "txt = \"VEERA KUMARI\"\n",
        "x = txt.casefold()\n",
        "print(x)"
      ]
    },
    {
      "cell_type": "markdown",
      "metadata": {
        "id": "f0wXcbqwTnJx"
      },
      "source": [
        "center return a centered string"
      ]
    },
    {
      "cell_type": "code",
      "execution_count": null,
      "metadata": {
        "colab": {
          "base_uri": "https://localhost:8080/"
        },
        "id": "M_4tVGk9TzSY",
        "outputId": "44b3f279-9ad8-4e49-c1db-5e9e6a515101"
      },
      "outputs": [
        {
          "name": "stdout",
          "output_type": "stream",
          "text": [
            "            banana            \n"
          ]
        }
      ],
      "source": [
        "txt = \"banana\"\n",
        "x = txt.center(30)\n",
        "print(x)\n"
      ]
    },
    {
      "cell_type": "markdown",
      "metadata": {
        "id": "dOJ0MnBvUqLG"
      },
      "source": [
        "count returns the number of times a specified values in a string"
      ]
    },
    {
      "cell_type": "code",
      "execution_count": null,
      "metadata": {
        "colab": {
          "base_uri": "https://localhost:8080/"
        },
        "id": "4pgMabU5VU5x",
        "outputId": "205665c1-9c53-4a09-da9e-b13cb3adc388"
      },
      "outputs": [
        {
          "name": "stdout",
          "output_type": "stream",
          "text": [
            "3\n"
          ]
        }
      ],
      "source": [
        "txt = \"I love apples,apple, apple are my favorite fruit\"\n",
        "x = txt.count(\"apple\")\n",
        "print(x)\n",
        "\n"
      ]
    },
    {
      "cell_type": "markdown",
      "metadata": {
        "id": "Rdyc4aKlT-x_"
      },
      "source": []
    },
    {
      "cell_type": "markdown",
      "metadata": {
        "id": "RFrBzZZqXP2V"
      },
      "source": [
        "endswitch"
      ]
    },
    {
      "cell_type": "code",
      "execution_count": null,
      "metadata": {
        "colab": {
          "base_uri": "https://localhost:8080/"
        },
        "id": "1etAqjakXSK5",
        "outputId": "6b623de6-90cc-46e4-e0cc-0538b9521c17"
      },
      "outputs": [
        {
          "name": "stdout",
          "output_type": "stream",
          "text": [
            "True\n"
          ]
        }
      ],
      "source": [
        "txt = \"veera kumari\"\n",
        "x = txt.endswith(\"i\")\n",
        "print(x)\n"
      ]
    },
    {
      "cell_type": "markdown",
      "metadata": {
        "id": "mmJM_Q2dZGhE"
      },
      "source": [
        "expandtabs"
      ]
    },
    {
      "cell_type": "code",
      "execution_count": null,
      "metadata": {
        "colab": {
          "base_uri": "https://localhost:8080/"
        },
        "id": "6wDnB9d0ZODo",
        "outputId": "97bde721-a2ed-49ba-e350-dc607b4a3b54"
      },
      "outputs": [
        {
          "name": "stdout",
          "output_type": "stream",
          "text": [
            "v e e r a k u m a r i\n"
          ]
        }
      ],
      "source": [
        "txt = \"v\\te\\te\\tr\\ta\\tk\\tu\\tm\\ta\\tr\\ti\"\n",
        "x =  txt.expandtabs(2)\n",
        "print(x)"
      ]
    },
    {
      "cell_type": "markdown",
      "metadata": {
        "id": "I-Q3vj7DcEgR"
      },
      "source": [
        "find()"
      ]
    },
    {
      "cell_type": "code",
      "execution_count": null,
      "metadata": {
        "colab": {
          "base_uri": "https://localhost:8080/"
        },
        "id": "cpUWGl38cGzo",
        "outputId": "8a76c3e6-e558-4acf-c3e8-952614f32d68"
      },
      "outputs": [
        {
          "name": "stdout",
          "output_type": "stream",
          "text": [
            "6\n"
          ]
        }
      ],
      "source": [
        "txt = \"veera kumari\"\n",
        "x = txt.find(\"k\")\n",
        "print(x)\n"
      ]
    },
    {
      "cell_type": "markdown",
      "metadata": {
        "id": "unuIn34deSFl"
      },
      "source": [
        "format()"
      ]
    },
    {
      "cell_type": "code",
      "execution_count": null,
      "metadata": {
        "colab": {
          "base_uri": "https://localhost:8080/"
        },
        "id": "KL3eoUCfeU2x",
        "outputId": "0a2ebdeb-4209-4fa5-a484-3e95a4aa118a"
      },
      "outputs": [
        {
          "name": "stdout",
          "output_type": "stream",
          "text": [
            "For only 49 dollars\n"
          ]
        }
      ],
      "source": [
        "txt = \"For only {price} dollars!\"\n",
        "print(txt.format(price = 49))\n"
      ]
    },
    {
      "cell_type": "markdown",
      "metadata": {
        "id": "33zZREDGWJ8u"
      },
      "source": [
        "Boolean"
      ]
    },
    {
      "cell_type": "code",
      "execution_count": null,
      "metadata": {
        "colab": {
          "base_uri": "https://localhost:8080/"
        },
        "id": "G271qrU3WN6a",
        "outputId": "b89523ec-b63c-4bbd-d763-c818b0304692"
      },
      "outputs": [
        {
          "name": "stdout",
          "output_type": "stream",
          "text": [
            "True\n",
            "False\n",
            "False\n"
          ]
        }
      ],
      "source": [
        "print(10 > 9)\n",
        "print(10 == 9)\n",
        "print(10 < 9)\n"
      ]
    },
    {
      "cell_type": "markdown",
      "metadata": {
        "id": "CG04g_GTXTZe"
      },
      "source": [
        "greater or not"
      ]
    },
    {
      "cell_type": "code",
      "execution_count": null,
      "metadata": {
        "colab": {
          "base_uri": "https://localhost:8080/"
        },
        "id": "8QPQg2F6XYft",
        "outputId": "e7ae776d-575d-487a-b555-ddbb8ff36b34"
      },
      "outputs": [
        {
          "name": "stdout",
          "output_type": "stream",
          "text": [
            "b is not greater than a\n"
          ]
        }
      ],
      "source": [
        "a = 200\n",
        "b = 33\n",
        "if b > a:\n",
        "  print(\"b is greater than a\")\n",
        "else:\n",
        "  print(\"b is not greater than a\")\n"
      ]
    },
    {
      "cell_type": "markdown",
      "metadata": {
        "id": "_1Sq0Ux8hyAL"
      },
      "source": [
        "Arithmetic operations"
      ]
    },
    {
      "cell_type": "code",
      "execution_count": null,
      "metadata": {
        "colab": {
          "base_uri": "https://localhost:8080/"
        },
        "id": "U_TW2uPiiU6Z",
        "outputId": "fb450aff-6a44-4d55-83b5-5c0e94119a0e"
      },
      "outputs": [
        {
          "name": "stdout",
          "output_type": "stream",
          "text": [
            "6\n",
            "2\n",
            "8\n",
            "2.0\n",
            "0\n",
            "16\n",
            "2\n"
          ]
        }
      ],
      "source": [
        "a=4\n",
        "b=2\n",
        "c=a+b\n",
        "print(c)\n",
        "\n",
        "c=a-b\n",
        "print(c)\n",
        "\n",
        "c=a*b\n",
        "print(c)\n",
        "\n",
        "c=a/b\n",
        "print(c)\n",
        "\n",
        "c=a%b\n",
        "print(c)\n",
        "\n",
        "c=a**b\n",
        "print(c)\n",
        "\n",
        "c=a//b\n",
        "print(c)"
      ]
    },
    {
      "cell_type": "markdown",
      "metadata": {
        "id": "hHAL2NT2jW6m"
      },
      "source": [
        "comparision and relational operations"
      ]
    },
    {
      "cell_type": "code",
      "execution_count": null,
      "metadata": {
        "colab": {
          "base_uri": "https://localhost:8080/"
        },
        "id": "7JHYlQ0tjddg",
        "outputId": "4c1800b3-55e9-47d6-cfcc-6988ee1592f1"
      },
      "outputs": [
        {
          "name": "stdout",
          "output_type": "stream",
          "text": [
            "False\n",
            "True\n",
            "False\n",
            "True\n",
            "False\n",
            "True\n"
          ]
        }
      ],
      "source": [
        "x=5\n",
        "y=8\n",
        "print(x==y)\n",
        "print(x!=y)\n",
        "print(x>y)\n",
        "print(x<y)\n",
        "print(x>=y)\n",
        "print(x<=y)"
      ]
    },
    {
      "cell_type": "markdown",
      "metadata": {
        "id": "DgrLzkpYj43l"
      },
      "source": [
        "Assigenment operations"
      ]
    },
    {
      "cell_type": "code",
      "execution_count": null,
      "metadata": {
        "colab": {
          "base_uri": "https://localhost:8080/"
        },
        "id": "-UToBBo1j8aP",
        "outputId": "7363664b-d08a-4caf-8b76-a7d457006538"
      },
      "outputs": [
        {
          "name": "stdout",
          "output_type": "stream",
          "text": [
            "7\n",
            "6\n",
            "18\n",
            "2\n"
          ]
        }
      ],
      "source": [
        "x=5\n",
        "x+=2\n",
        "print(x)\n",
        "x-=1\n",
        "print(x)\n",
        "x*=3\n",
        "print(x)\n",
        "x/=2\n",
        "print(2)\n"
      ]
    },
    {
      "cell_type": "markdown",
      "metadata": {
        "id": "eWLuedxYmhpH"
      },
      "source": [
        "logical operators"
      ]
    },
    {
      "cell_type": "code",
      "execution_count": null,
      "metadata": {
        "colab": {
          "base_uri": "https://localhost:8080/"
        },
        "id": "eZ0jB5M7mlV3",
        "outputId": "d2423d5d-8af7-41b1-9850-358dc68d6d24"
      },
      "outputs": [
        {
          "name": "stdout",
          "output_type": "stream",
          "text": [
            "both conditions are true\n"
          ]
        }
      ],
      "source": [
        "x = 10\n",
        "y = 5\n",
        "\n",
        "if x > 5 and y < 10:\n",
        "    print(\"both conditions are true\")\n",
        "\n",
        "x = 10"
      ]
    },
    {
      "cell_type": "markdown",
      "metadata": {
        "id": "62_2wt86qvjl"
      },
      "source": [
        "bitwise operators"
      ]
    },
    {
      "cell_type": "code",
      "execution_count": null,
      "metadata": {
        "colab": {
          "base_uri": "https://localhost:8080/"
        },
        "id": "fv2Cv0Mvq0st",
        "outputId": "2c9de161-a12f-4b1d-b8b8-42c449bd9445"
      },
      "outputs": [
        {
          "name": "stdout",
          "output_type": "stream",
          "text": [
            "1\n",
            "3\n",
            "0\n"
          ]
        }
      ],
      "source": [
        "x=5\n",
        "y=3\n",
        "\n",
        "x=(x&y)\n",
        "print(x)\n",
        "x=(x|y)\n",
        "print(x)\n",
        "x=(x^y)\n",
        "print(x)"
      ]
    },
    {
      "cell_type": "markdown",
      "metadata": {
        "id": "xMxkms8yZvr3"
      },
      "source": [
        "identity operators"
      ]
    },
    {
      "cell_type": "code",
      "execution_count": null,
      "metadata": {
        "colab": {
          "base_uri": "https://localhost:8080/"
        },
        "id": "hYOZyvzTZ1Dd",
        "outputId": "3425e886-bd51-489b-8f25-04c56bfe2cb9"
      },
      "outputs": [
        {
          "name": "stdout",
          "output_type": "stream",
          "text": [
            "True\n",
            "False\n",
            "True\n"
          ]
        }
      ],
      "source": [
        "a=[1,2]\n",
        "b=a\n",
        "c=[1,2]\n",
        "print(a is b)\n",
        "print(a is c)\n",
        "print(a is not c)\n"
      ]
    },
    {
      "cell_type": "markdown",
      "metadata": {
        "id": "7N4r4r6TqmNv"
      },
      "source": []
    },
    {
      "cell_type": "markdown",
      "metadata": {
        "id": "_UPCRaUWZ5Hs"
      },
      "source": [
        "lists"
      ]
    },
    {
      "cell_type": "code",
      "execution_count": null,
      "metadata": {
        "colab": {
          "base_uri": "https://localhost:8080/"
        },
        "id": "xRDycH45Z6hO",
        "outputId": "48a5b713-634e-4ec8-babc-6094d753c46a"
      },
      "outputs": [
        {
          "name": "stdout",
          "output_type": "stream",
          "text": [
            "apple\n",
            "['apple', 'banana', 'cherry']\n",
            "3\n",
            "['apple', 'banana', 'cherry', 'orange']\n"
          ]
        }
      ],
      "source": [
        "friuts=[\"apple\",\"banana\",\"cherry\"]\n",
        "print(friuts[0])\n",
        "friuts[1]=\"banana\"\n",
        "print(friuts)\n",
        "print(len(friuts))\n",
        "friuts.append(\"orange\")\n",
        "print(friuts)"
      ]
    },
    {
      "cell_type": "markdown",
      "metadata": {
        "id": "f_T3QZjzaCt-"
      },
      "source": [
        "common tuples"
      ]
    },
    {
      "cell_type": "code",
      "execution_count": null,
      "metadata": {
        "colab": {
          "base_uri": "https://localhost:8080/"
        },
        "id": "5dvYRK6HaGEn",
        "outputId": "ecd1d225-7f2f-4ba1-e7ca-ba7cf3a2e438"
      },
      "outputs": [
        {
          "name": "stdout",
          "output_type": "stream",
          "text": [
            "1\n",
            "2\n"
          ]
        }
      ],
      "source": [
        "colors=(\"red\",\"green\",\"blue\")\n",
        "n=colors.count(\"green\")\n",
        "print(n)\n",
        "n=colors.index(\"blue\")\n",
        "print(n)\n",
        "\n"
      ]
    },
    {
      "cell_type": "markdown",
      "metadata": {
        "id": "1iGwQ283aM57"
      },
      "source": [
        "sets"
      ]
    },
    {
      "cell_type": "code",
      "execution_count": null,
      "metadata": {
        "colab": {
          "base_uri": "https://localhost:8080/"
        },
        "id": "1ejk6kf3aOAL",
        "outputId": "e5c1e4ec-ed15-410c-c0df-cac7e2040ee7"
      },
      "outputs": [
        {
          "name": "stdout",
          "output_type": "stream",
          "text": [
            "{1, 2, 3, 4, 5}\n",
            "{1, 2, 3, 4, 5, 6}\n",
            "{1, 3, 4, 5, 6}\n"
          ]
        }
      ],
      "source": [
        "numbers={1,2,3,4,5}\n",
        "print(numbers)\n",
        "numbers.add(6)\n",
        "print(numbers)\n",
        "numbers.remove(2)\n",
        "print(numbers)"
      ]
    },
    {
      "cell_type": "markdown",
      "metadata": {
        "id": "kkh0ISm_U5v_"
      },
      "source": [
        "# 04/08/25"
      ]
    },
    {
      "cell_type": "markdown",
      "metadata": {
        "id": "98xCJypEVRTM"
      },
      "source": [
        "loops"
      ]
    },
    {
      "cell_type": "markdown",
      "metadata": {
        "id": "fLe_gNg7Wjek"
      },
      "source": [
        "print 1 to 10 numbers"
      ]
    },
    {
      "cell_type": "code",
      "execution_count": null,
      "metadata": {
        "colab": {
          "base_uri": "https://localhost:8080/"
        },
        "id": "t1Vz2aRRVAqK",
        "outputId": "0c2fe861-e0ea-4dd8-e7ef-ebfeda21446d"
      },
      "outputs": [
        {
          "name": "stdout",
          "output_type": "stream",
          "text": [
            "1\n",
            "2\n",
            "3\n",
            "4\n",
            "5\n",
            "6\n",
            "7\n",
            "8\n",
            "9\n",
            "10\n"
          ]
        }
      ],
      "source": [
        "\n",
        "i=1\n",
        "while i <=10:\n",
        " print(i)\n",
        " i+=1\n",
        "\n"
      ]
    },
    {
      "cell_type": "markdown",
      "metadata": {
        "id": "-M0Ilz2TVfoz"
      },
      "source": [
        "reverse print 10 to 1\n",
        "\n"
      ]
    },
    {
      "cell_type": "code",
      "execution_count": null,
      "metadata": {
        "colab": {
          "base_uri": "https://localhost:8080/"
        },
        "id": "gw1toAzBViJ4",
        "outputId": "38b8aeb3-a4c0-4c4e-a4f3-5c64733fca11"
      },
      "outputs": [
        {
          "name": "stdout",
          "output_type": "stream",
          "text": [
            "10\n",
            "9\n",
            "8\n",
            "7\n",
            "6\n",
            "5\n",
            "4\n",
            "3\n",
            "2\n",
            "1\n"
          ]
        }
      ],
      "source": [
        "i=10\n",
        "while i >=1:\n",
        "  print(i)\n",
        "  i-=1"
      ]
    },
    {
      "cell_type": "markdown",
      "metadata": {
        "id": "ir8f9JerVp07"
      },
      "source": [
        "print even numbers 1 to 20"
      ]
    },
    {
      "cell_type": "code",
      "execution_count": null,
      "metadata": {
        "colab": {
          "base_uri": "https://localhost:8080/"
        },
        "id": "OtkTyihNVtvD",
        "outputId": "b236f39f-a98d-4a99-991c-95c556c2d007"
      },
      "outputs": [
        {
          "name": "stdout",
          "output_type": "stream",
          "text": [
            "2\n",
            "4\n",
            "6\n",
            "8\n",
            "10\n",
            "12\n",
            "14\n",
            "16\n",
            "18\n"
          ]
        }
      ],
      "source": [
        "\n",
        "i=2\n",
        "while i < 20:\n",
        "  print(i)\n",
        "  i+=2"
      ]
    },
    {
      "cell_type": "markdown",
      "metadata": {
        "id": "js7QkXWuVywO"
      },
      "source": [
        "print odd number 1 to 30"
      ]
    },
    {
      "cell_type": "code",
      "execution_count": null,
      "metadata": {
        "colab": {
          "base_uri": "https://localhost:8080/"
        },
        "id": "FAL8dZFbVyTy",
        "outputId": "6116f3aa-f2d8-43bb-9ff6-652e1b599158"
      },
      "outputs": [
        {
          "name": "stdout",
          "output_type": "stream",
          "text": [
            "1\n",
            "3\n",
            "5\n",
            "7\n",
            "9\n",
            "11\n",
            "13\n",
            "15\n",
            "17\n",
            "19\n"
          ]
        }
      ],
      "source": [
        "\n",
        "i=1\n",
        "while i < 20:\n",
        "  print(i)\n",
        "  i+=2\n",
        "\n"
      ]
    },
    {
      "cell_type": "markdown",
      "metadata": {
        "id": "kYUFS0jDV31y"
      },
      "source": [
        "sum of natural numbers N=10"
      ]
    },
    {
      "cell_type": "code",
      "execution_count": null,
      "metadata": {
        "colab": {
          "base_uri": "https://localhost:8080/"
        },
        "id": "AM5pvWjpV8Bk",
        "outputId": "da429093-0a60-42ff-bb96-5d0d6cd7c87b"
      },
      "outputs": [
        {
          "name": "stdout",
          "output_type": "stream",
          "text": [
            "1\n",
            "3\n",
            "6\n",
            "10\n",
            "15\n",
            "21\n",
            "28\n",
            "36\n",
            "45\n",
            "55\n"
          ]
        }
      ],
      "source": [
        "\n",
        "n=10\n",
        "i=1\n",
        "total=0\n",
        "while i<=n:\n",
        "  total+=i\n",
        "  i+=1\n",
        "  print(total)\n",
        "\n"
      ]
    },
    {
      "cell_type": "markdown",
      "metadata": {
        "id": "X3FelegsWBnA"
      },
      "source": [
        "multiplication table of a number"
      ]
    },
    {
      "cell_type": "code",
      "execution_count": null,
      "metadata": {
        "colab": {
          "base_uri": "https://localhost:8080/"
        },
        "id": "jPeuCCMGWFCS",
        "outputId": "6ede86c7-fb16-4be5-8ccc-282e06b43fab"
      },
      "outputs": [
        {
          "name": "stdout",
          "output_type": "stream",
          "text": [
            "10 * 1 = 10\n",
            "10 * 2 = 20\n",
            "10 * 3 = 30\n",
            "10 * 4 = 40\n",
            "10 * 5 = 50\n"
          ]
        }
      ],
      "source": [
        "num=10\n",
        "i=1\n",
        "while i<=5:\n",
        "  print(num,\"*\",i,\"=\",num*i)\n",
        "  i+=1\n",
        "\n"
      ]
    },
    {
      "cell_type": "markdown",
      "metadata": {
        "id": "DuW33Q2LWO6W"
      },
      "source": [
        "reverse a number"
      ]
    },
    {
      "cell_type": "code",
      "execution_count": null,
      "metadata": {
        "colab": {
          "base_uri": "https://localhost:8080/"
        },
        "id": "7B7S_7R9WTkB",
        "outputId": "fa4bbdcc-3125-4025-b405-6d9b68f638c8"
      },
      "outputs": [
        {
          "name": "stdout",
          "output_type": "stream",
          "text": [
            "4321\n"
          ]
        }
      ],
      "source": [
        "num=1234\n",
        "rev=0\n",
        "while num >0:\n",
        "  rev=rev*10+num%10\n",
        "  num=num//10\n",
        "print(rev)\n"
      ]
    },
    {
      "cell_type": "markdown",
      "metadata": {
        "id": "BEpik0caW7ZB"
      },
      "source": [
        "Count digits in a number\n"
      ]
    },
    {
      "cell_type": "code",
      "execution_count": null,
      "metadata": {
        "colab": {
          "base_uri": "https://localhost:8080/"
        },
        "id": "z-H6hV1cW-WX",
        "outputId": "fb125a32-1cd8-4e69-e1e8-97e8d40bbed2"
      },
      "outputs": [
        {
          "name": "stdout",
          "output_type": "stream",
          "text": [
            "4\n"
          ]
        }
      ],
      "source": [
        "num = 7865\n",
        "count = 0\n",
        "while num > 0:\n",
        "    num = num // 10\n",
        "    count += 1\n",
        "print( count)"
      ]
    },
    {
      "cell_type": "markdown",
      "metadata": {
        "id": "iHrrP83Ef3jd"
      },
      "source": [
        "Check palindrome number"
      ]
    },
    {
      "cell_type": "code",
      "execution_count": null,
      "metadata": {
        "colab": {
          "base_uri": "https://localhost:8080/"
        },
        "id": "zf3AZyv9f7r9",
        "outputId": "baa1fcaa-24ce-4a69-ea92-5111b1cd53b5"
      },
      "outputs": [
        {
          "name": "stdout",
          "output_type": "stream",
          "text": [
            "Palindrome\n"
          ]
        }
      ],
      "source": [
        "num = 121\n",
        "temp = num\n",
        "rev = 0\n",
        "while num > 0:\n",
        "    rev = rev * 10 + num % 10\n",
        "    num = num // 10\n",
        "if temp == rev:\n",
        "    print(\"Palindrome\")\n",
        "else:\n",
        "    print(\"Not Palindrome\")"
      ]
    },
    {
      "cell_type": "markdown",
      "metadata": {
        "id": "cz738qgSgImA"
      },
      "source": [
        "Sum of digits"
      ]
    },
    {
      "cell_type": "code",
      "execution_count": null,
      "metadata": {
        "colab": {
          "base_uri": "https://localhost:8080/"
        },
        "id": "684x3BYNgXAp",
        "outputId": "788c2996-a8b6-4189-c86b-cd1fff8e4dc9"
      },
      "outputs": [
        {
          "name": "stdout",
          "output_type": "stream",
          "text": [
            "10\n"
          ]
        }
      ],
      "source": [
        "num = 1234\n",
        "total = 0\n",
        "while num > 0:\n",
        "    total += num % 10\n",
        "    num = num // 10\n",
        "print( total)"
      ]
    },
    {
      "cell_type": "markdown",
      "metadata": {
        "id": "DkqNW9F3gxhv"
      },
      "source": [
        "Factorial of a number"
      ]
    },
    {
      "cell_type": "code",
      "execution_count": null,
      "metadata": {
        "colab": {
          "base_uri": "https://localhost:8080/"
        },
        "id": "6v58lq4Bgy-p",
        "outputId": "c50b610a-4c99-4db1-8843-478d76e9dc24"
      },
      "outputs": [
        {
          "name": "stdout",
          "output_type": "stream",
          "text": [
            "120\n"
          ]
        }
      ],
      "source": [
        "n = 5\n",
        "fact = 1\n",
        "i = 1\n",
        "while i <= n:\n",
        "    fact *= i\n",
        "    i += 1\n",
        "print( fact)"
      ]
    },
    {
      "cell_type": "markdown",
      "metadata": {
        "id": "ktybxodnhCv7"
      },
      "source": [
        ". Pattern Printing"
      ]
    },
    {
      "cell_type": "code",
      "execution_count": null,
      "metadata": {
        "colab": {
          "base_uri": "https://localhost:8080/"
        },
        "id": "l6hS9ZdOhFX-",
        "outputId": "9b6250e1-69ff-4706-dd1e-087497f6b2d9"
      },
      "outputs": [
        {
          "name": "stdout",
          "output_type": "stream",
          "text": [
            "*\n",
            "**\n",
            "***\n",
            "****\n",
            "*****\n"
          ]
        }
      ],
      "source": [
        "i = 1\n",
        "while i <= 5:\n",
        "    print(\"*\" * i)\n",
        "    i += 1\n"
      ]
    },
    {
      "cell_type": "markdown",
      "metadata": {
        "id": "UfTYaNJbkg-Q"
      },
      "source": [
        "Print each fruit in a fruit list:"
      ]
    },
    {
      "cell_type": "markdown",
      "metadata": {
        "id": "igjGNMVikyYX"
      },
      "source": [
        "## **For** loop"
      ]
    },
    {
      "cell_type": "code",
      "execution_count": null,
      "metadata": {
        "colab": {
          "base_uri": "https://localhost:8080/"
        },
        "id": "DwXCpeMZkqsc",
        "outputId": "0e19e74b-080f-4fe4-be0e-06d08c64d6b6"
      },
      "outputs": [
        {
          "name": "stdout",
          "output_type": "stream",
          "text": [
            "apple\n",
            "banana\n",
            "cherry\n"
          ]
        }
      ],
      "source": [
        "fruits = [\"apple\", \"banana\", \"cherry\"]\n",
        "for x in fruits:\n",
        "  print(x)"
      ]
    },
    {
      "cell_type": "markdown",
      "metadata": {
        "id": "PIj5SXJal1h1"
      },
      "source": [
        "Print numbers 1 to 5"
      ]
    },
    {
      "cell_type": "code",
      "execution_count": null,
      "metadata": {
        "colab": {
          "base_uri": "https://localhost:8080/"
        },
        "id": "WNrHzhGwl6Hr",
        "outputId": "9b584e81-20ee-40c5-9138-1029f3dc89e4"
      },
      "outputs": [
        {
          "name": "stdout",
          "output_type": "stream",
          "text": [
            "1\n",
            "2\n",
            "3\n",
            "4\n",
            "5\n"
          ]
        }
      ],
      "source": [
        "for i in range(1, 6):\n",
        "    print(i)\n"
      ]
    },
    {
      "cell_type": "markdown",
      "metadata": {
        "id": "wftWeaYDmaHM"
      },
      "source": [
        "Print characters in a string\n"
      ]
    },
    {
      "cell_type": "code",
      "execution_count": null,
      "metadata": {
        "colab": {
          "base_uri": "https://localhost:8080/"
        },
        "id": "uVA0fXzymQr9",
        "outputId": "183ddffc-349a-4015-d06d-4247fb75a2a9"
      },
      "outputs": [
        {
          "name": "stdout",
          "output_type": "stream",
          "text": [
            "h\n",
            "e\n",
            "l\n",
            "l\n",
            "o\n"
          ]
        }
      ],
      "source": [
        "for ch in \"hello\":\n",
        "    print(ch)\n"
      ]
    },
    {
      "cell_type": "markdown",
      "metadata": {
        "id": "USTklCGum-An"
      },
      "source": [
        "Sum of first 10 numbers"
      ]
    },
    {
      "cell_type": "code",
      "execution_count": null,
      "metadata": {
        "colab": {
          "base_uri": "https://localhost:8080/"
        },
        "id": "2MQgSNa2m_lk",
        "outputId": "b2697e5e-42a9-4cec-d105-cbf51f41612f"
      },
      "outputs": [
        {
          "name": "stdout",
          "output_type": "stream",
          "text": [
            "55\n"
          ]
        }
      ],
      "source": [
        "total = 0\n",
        "for i in range(1, 11):\n",
        "    total += i\n",
        "print(total)"
      ]
    },
    {
      "cell_type": "markdown",
      "metadata": {
        "id": "Mpq-WVnhnZLm"
      },
      "source": [
        "Print even numbers from 1 to 20"
      ]
    },
    {
      "cell_type": "code",
      "execution_count": null,
      "metadata": {
        "colab": {
          "base_uri": "https://localhost:8080/"
        },
        "id": "gKBv--hknbd_",
        "outputId": "7b2c8244-cb8b-4739-9116-5a6d9837bfbd"
      },
      "outputs": [
        {
          "name": "stdout",
          "output_type": "stream",
          "text": [
            "2\n",
            "4\n",
            "6\n",
            "8\n",
            "10\n",
            "12\n",
            "14\n",
            "16\n",
            "18\n",
            "20\n"
          ]
        }
      ],
      "source": [
        "for i in range(1, 21):\n",
        "    if i % 2 == 0:\n",
        "        print(i)"
      ]
    },
    {
      "cell_type": "markdown",
      "metadata": {
        "id": "yEIP0x6po7db"
      },
      "source": [
        "Print multiplication table of a number"
      ]
    },
    {
      "cell_type": "code",
      "execution_count": null,
      "metadata": {
        "colab": {
          "base_uri": "https://localhost:8080/"
        },
        "id": "BS4ks7qko81B",
        "outputId": "f4ee5ccc-119e-4112-af70-38fc78078e27"
      },
      "outputs": [
        {
          "name": "stdout",
          "output_type": "stream",
          "text": [
            "5 x 1 = 5\n",
            "5 x 2 = 10\n",
            "5 x 3 = 15\n",
            "5 x 4 = 20\n",
            "5 x 5 = 25\n",
            "5 x 6 = 30\n",
            "5 x 7 = 35\n",
            "5 x 8 = 40\n",
            "5 x 9 = 45\n",
            "5 x 10 = 50\n"
          ]
        }
      ],
      "source": [
        "num = 5\n",
        "for i in range(1, 11):\n",
        "    print(f\"{num} x {i} = {num*i}\")"
      ]
    },
    {
      "cell_type": "markdown",
      "metadata": {
        "id": "1I-O4ubwpBYq"
      },
      "source": [
        "Factorial of a number"
      ]
    },
    {
      "cell_type": "code",
      "execution_count": null,
      "metadata": {
        "colab": {
          "base_uri": "https://localhost:8080/"
        },
        "id": "E3yHdYENpEWk",
        "outputId": "28db60db-c8d6-4043-e781-c3ff3e3aea12"
      },
      "outputs": [
        {
          "name": "stdout",
          "output_type": "stream",
          "text": [
            "120\n"
          ]
        }
      ],
      "source": [
        "num = 5\n",
        "fact = 1\n",
        "for i in range(1, num + 1):\n",
        "    fact *= i\n",
        "print( fact)"
      ]
    },
    {
      "cell_type": "markdown",
      "metadata": {
        "id": "_EBYpRuqpMxw"
      },
      "source": [
        "Reverse a string\n",
        "\n"
      ]
    },
    {
      "cell_type": "code",
      "execution_count": null,
      "metadata": {
        "colab": {
          "base_uri": "https://localhost:8080/"
        },
        "id": "877a2oQepRqM",
        "outputId": "0994f428-8d97-49e5-a013-cdde43ec9055"
      },
      "outputs": [
        {
          "name": "stdout",
          "output_type": "stream",
          "text": [
            "Reversed: nohtyp\n"
          ]
        }
      ],
      "source": [
        "s = \"python\"\n",
        "rev = \"\"\n",
        "for ch in s:\n",
        "    rev = ch + rev\n",
        "print(\"Reversed:\", rev)"
      ]
    },
    {
      "cell_type": "markdown",
      "metadata": {
        "id": "tF-KNP7EpzO_"
      },
      "source": [
        "Nested loop"
      ]
    },
    {
      "cell_type": "code",
      "execution_count": null,
      "metadata": {
        "colab": {
          "base_uri": "https://localhost:8080/"
        },
        "id": "x0czcmosqEUZ",
        "outputId": "a243c9a3-940a-41fc-a65e-39551a050b4b"
      },
      "outputs": [
        {
          "name": "stdout",
          "output_type": "stream",
          "text": [
            "*\n",
            "**\n",
            "***\n",
            "****\n",
            "*****\n"
          ]
        }
      ],
      "source": [
        "for i in range(1, 6):\n",
        "    for j in range(i):\n",
        "        print(\"*\", end=\"\")\n",
        "    print()"
      ]
    },
    {
      "cell_type": "markdown",
      "metadata": {
        "id": "SbzJnQVpjRDd"
      },
      "source": [
        "#05/08/2025"
      ]
    },
    {
      "cell_type": "markdown",
      "metadata": {
        "id": "kAx-0nFZjXt_"
      },
      "source": [
        "String in python"
      ]
    },
    {
      "cell_type": "code",
      "execution_count": null,
      "metadata": {
        "colab": {
          "base_uri": "https://localhost:8080/"
        },
        "id": "CEAc_lnJjiNh",
        "outputId": "35c2532b-1277-434e-da7b-041cea661119"
      },
      "outputs": [
        {
          "name": "stdout",
          "output_type": "stream",
          "text": [
            "V\n",
            "e\n",
            "e\n",
            "r\n",
            "a\n",
            " \n",
            "k\n",
            "u\n",
            "m\n",
            "a\n",
            "r\n",
            "i\n"
          ]
        }
      ],
      "source": [
        "for x in (\"Veera kumari\"):\n",
        "   print(x)"
      ]
    },
    {
      "cell_type": "markdown",
      "metadata": {
        "id": "iyJAbYYPjv7W"
      },
      "source": [
        "Index with tuple items print"
      ]
    },
    {
      "cell_type": "code",
      "execution_count": null,
      "metadata": {
        "colab": {
          "base_uri": "https://localhost:8080/"
        },
        "id": "ISAomamfkYQR",
        "outputId": "c0a49cf5-02b5-4400-9cb8-222cdaf2796a"
      },
      "outputs": [
        {
          "name": "stdout",
          "output_type": "stream",
          "text": [
            "index: 0 value: apples\n",
            "index: 1 value: banana\n",
            "index: 2 value: cherry\n"
          ]
        }
      ],
      "source": [
        "fruits=(\"apples\",\"banana\",\"cherry\")\n",
        "for i in range(len(fruits)):\n",
        "    print(\"index:\",i, \"value:\",fruits[i])"
      ]
    },
    {
      "cell_type": "markdown",
      "metadata": {
        "id": "k5p6_NzQmR5x"
      },
      "source": [
        "Even numbers filter"
      ]
    },
    {
      "cell_type": "code",
      "execution_count": null,
      "metadata": {
        "colab": {
          "base_uri": "https://localhost:8080/"
        },
        "id": "np6HKzVknL5E",
        "outputId": "53712371-68bc-4198-9fe4-6f02ae905dc3"
      },
      "outputs": [
        {
          "name": "stdout",
          "output_type": "stream",
          "text": [
            "even 10\n",
            "even 20\n",
            "even 34\n"
          ]
        }
      ],
      "source": [
        "numbers=(10,20,35,34,57)\n",
        "for n in numbers:\n",
        " if n%2==0:\n",
        "  print(\"even\",n)"
      ]
    },
    {
      "cell_type": "markdown",
      "metadata": {
        "id": "AydWMAuJn5nY"
      },
      "source": []
    },
    {
      "cell_type": "markdown",
      "metadata": {
        "id": "VInSK3X5oWQs"
      },
      "source": [
        "Nested loop"
      ]
    },
    {
      "cell_type": "code",
      "execution_count": null,
      "metadata": {
        "colab": {
          "base_uri": "https://localhost:8080/"
        },
        "id": "_6BwAjheorWB",
        "outputId": "e87f3a8f-61c5-4d44-e586-09067a23773d"
      },
      "outputs": [
        {
          "name": "stdout",
          "output_type": "stream",
          "text": [
            "i=1,fj=1\n",
            "i=1,fj=2\n",
            "i=2,fj=1\n",
            "i=2,fj=2\n",
            "i=3,fj=1\n",
            "i=3,fj=2\n"
          ]
        }
      ],
      "source": [
        "for i in range(1,4):\n",
        "    for j in range(1,3):\n",
        "        print(f\"i={i},fj={j}\")"
      ]
    },
    {
      "cell_type": "markdown",
      "metadata": {
        "id": "Wg7l9QGkrRPQ"
      },
      "source": [
        "Number Pattern Triangle"
      ]
    },
    {
      "cell_type": "code",
      "execution_count": null,
      "metadata": {
        "colab": {
          "base_uri": "https://localhost:8080/"
        },
        "id": "hm-oU0mdrcsC",
        "outputId": "c772cd37-8919-4ac7-c303-f201aa28ae92"
      },
      "outputs": [
        {
          "name": "stdout",
          "output_type": "stream",
          "text": [
            "1 \n",
            "1 2 \n",
            "1 2 3 \n",
            "1 2 3 4 \n",
            "1 2 3 4 5 \n"
          ]
        }
      ],
      "source": [
        "for i in range(1, 6):\n",
        "    for j in range(1, i + 1):\n",
        "        print(j, end=\" \")\n",
        "    print()"
      ]
    },
    {
      "cell_type": "markdown",
      "metadata": {
        "id": "m6eVCn4mrmna"
      },
      "source": [
        "Reverse Number Triangle"
      ]
    },
    {
      "cell_type": "code",
      "execution_count": null,
      "metadata": {
        "colab": {
          "base_uri": "https://localhost:8080/"
        },
        "id": "X8MZPy_5rqZ2",
        "outputId": "e4107689-bd9b-476a-ac1b-0c8ee693719f"
      },
      "outputs": [
        {
          "name": "stdout",
          "output_type": "stream",
          "text": [
            "1 2 3 4 5 \n",
            "1 2 3 4 \n",
            "1 2 3 \n",
            "1 2 \n",
            "1 \n"
          ]
        }
      ],
      "source": [
        "for i in range(5, 0, -1):\n",
        "    for j in range(1, i + 1):\n",
        "        print(j, end=\" \")\n",
        "    print()"
      ]
    },
    {
      "cell_type": "markdown",
      "metadata": {
        "id": "I8RaNtp8sOEl"
      },
      "source": [
        "Functions"
      ]
    },
    {
      "cell_type": "code",
      "execution_count": null,
      "metadata": {
        "colab": {
          "base_uri": "https://localhost:8080/"
        },
        "id": "KHVbZZXYsQKG",
        "outputId": "b1ec6688-4c08-478a-ea8e-799ce61dedad"
      },
      "outputs": [
        {
          "name": "stdout",
          "output_type": "stream",
          "text": [
            "Veera kumari\n"
          ]
        }
      ],
      "source": [
        "def my_function():\n",
        "   print(\"Veera kumari\")\n",
        "my_function()"
      ]
    },
    {
      "cell_type": "code",
      "execution_count": null,
      "metadata": {
        "colab": {
          "base_uri": "https://localhost:8080/"
        },
        "id": "6XKZBtxsOIck",
        "outputId": "76ce37b0-386e-4fb1-fc78-5abaf1b82b5b"
      },
      "outputs": [
        {
          "name": "stdout",
          "output_type": "stream",
          "text": [
            "1\n",
            "2\n",
            "3\n",
            "4\n",
            "5\n"
          ]
        }
      ],
      "source": [
        "for i in range (1,6):\n",
        "\n",
        "   print(i)"
      ]
    },
    {
      "cell_type": "code",
      "execution_count": null,
      "metadata": {
        "colab": {
          "base_uri": "https://localhost:8080/"
        },
        "id": "UM60ii95O-sf",
        "outputId": "08fb0766-215c-4619-cc7f-8f5271d976ff"
      },
      "outputs": [
        {
          "name": "stdout",
          "output_type": "stream",
          "text": [
            "V\n",
            "e\n",
            "e\n",
            "r\n",
            "a\n",
            " \n",
            "k\n",
            "u\n",
            "m\n",
            "a\n",
            "r\n",
            "i\n"
          ]
        }
      ],
      "source": [
        "for i in \"Veera kumari\":\n",
        "    print(i)"
      ]
    },
    {
      "cell_type": "code",
      "execution_count": null,
      "metadata": {
        "colab": {
          "base_uri": "https://localhost:8080/"
        },
        "id": "lE40JkmmPKta",
        "outputId": "be9ace83-bafd-4b5c-bca8-155498a2683c"
      },
      "outputs": [
        {
          "name": "stdout",
          "output_type": "stream",
          "text": [
            "apples\n",
            "banana\n",
            "cherry\n"
          ]
        }
      ],
      "source": [
        "fruits=(\"apples\",\"banana\",\"cherry\")\n",
        "for fruits  in fruits :\n",
        "    print(fruits)"
      ]
    },
    {
      "cell_type": "markdown",
      "metadata": {
        "id": "WboZcRtBr7bo"
      },
      "source": []
    },
    {
      "cell_type": "code",
      "execution_count": null,
      "metadata": {
        "colab": {
          "base_uri": "https://localhost:8080/"
        },
        "id": "aPNo1at5R2Z_",
        "outputId": "ca1f8bef-7703-4b32-9599-b899e77463a8"
      },
      "outputs": [
        {
          "name": "stdout",
          "output_type": "stream",
          "text": [
            "10\n",
            "13\n",
            "16\n"
          ]
        }
      ],
      "source": [
        "for i in range(10,18,3):\n",
        "     print(i)"
      ]
    },
    {
      "cell_type": "code",
      "execution_count": null,
      "metadata": {
        "colab": {
          "base_uri": "https://localhost:8080/"
        },
        "id": "avBJ3FvVbhol",
        "outputId": "a78d15ff-cdcb-4a55-833a-95cd98a12811"
      },
      "outputs": [
        {
          "name": "stdout",
          "output_type": "stream",
          "text": [
            "veera kumari Achanta\n",
            "swamy Achanta\n",
            "varalakshmi Achanta\n"
          ]
        }
      ],
      "source": [
        "def my_function(fname):\n",
        "   print(fname+ \" Achanta\")\n",
        "my_function(\"veera kumari\")\n",
        "my_function(\"swamy\")\n",
        "my_function(\"varalakshmi\")\n"
      ]
    },
    {
      "cell_type": "markdown",
      "metadata": {
        "id": "e_NXGyiBcguQ"
      },
      "source": [
        "add two numbers"
      ]
    },
    {
      "cell_type": "code",
      "execution_count": null,
      "metadata": {
        "colab": {
          "base_uri": "https://localhost:8080/"
        },
        "id": "aPKAzCMRcjLQ",
        "outputId": "0d1a4698-949d-4043-f4b8-dda5f6346815"
      },
      "outputs": [
        {
          "name": "stdout",
          "output_type": "stream",
          "text": [
            "8\n"
          ]
        }
      ],
      "source": [
        "def add(a, b):\n",
        "    return a + b\n",
        "\n",
        "print(add(3, 5))"
      ]
    },
    {
      "cell_type": "markdown",
      "metadata": {
        "id": "npKiJ8k7cpKw"
      },
      "source": [
        "Check Even or Odd"
      ]
    },
    {
      "cell_type": "code",
      "execution_count": null,
      "metadata": {
        "colab": {
          "base_uri": "https://localhost:8080/"
        },
        "id": "c3ODyOB8crwn",
        "outputId": "27b97633-192e-4d1c-d1a1-28215184d1f0"
      },
      "outputs": [
        {
          "name": "stdout",
          "output_type": "stream",
          "text": [
            "True\n"
          ]
        }
      ],
      "source": [
        "def is_even(n):\n",
        "    return n % 2 == 0\n",
        "\n",
        "print(is_even(4))"
      ]
    },
    {
      "cell_type": "markdown",
      "metadata": {
        "id": "PZperbIcdMlw"
      },
      "source": [
        "factorial"
      ]
    },
    {
      "cell_type": "code",
      "execution_count": null,
      "metadata": {
        "colab": {
          "base_uri": "https://localhost:8080/"
        },
        "id": "IjAj-jr0dQy0",
        "outputId": "a4890d1d-a22d-41ac-9f09-40251dbe9899"
      },
      "outputs": [
        {
          "name": "stdout",
          "output_type": "stream",
          "text": [
            "120\n"
          ]
        }
      ],
      "source": [
        "def factorial(n):\n",
        "    if n == 0 or n == 1:\n",
        "        return 1\n",
        "    return n * factorial(n - 1)\n",
        "\n",
        "print(factorial(5))"
      ]
    },
    {
      "cell_type": "markdown",
      "metadata": {
        "id": "kVm7dlLldulG"
      },
      "source": [
        "reverse string"
      ]
    },
    {
      "cell_type": "code",
      "execution_count": null,
      "metadata": {
        "colab": {
          "base_uri": "https://localhost:8080/"
        },
        "id": "mN6pcJfQdwkQ",
        "outputId": "34da9ca2-5583-4b61-b224-ede804195147"
      },
      "outputs": [
        {
          "name": "stdout",
          "output_type": "stream",
          "text": [
            "olleh\n"
          ]
        }
      ],
      "source": [
        "def reverse_string(s):\n",
        "    return s[::-1]\n",
        "\n",
        "print(reverse_string(\"hello\"))"
      ]
    },
    {
      "cell_type": "markdown",
      "metadata": {
        "id": "ca14z876jOVL"
      },
      "source": []
    },
    {
      "cell_type": "code",
      "execution_count": null,
      "metadata": {
        "colab": {
          "background_save": true,
          "base_uri": "https://localhost:8080/"
        },
        "id": "w5xOGceKjR-R",
        "outputId": "ddecb273-34f4-4cdc-b028-283c95eed7f6"
      },
      "outputs": [
        {
          "name": "stdout",
          "output_type": "stream",
          "text": [
            "15\n"
          ]
        }
      ],
      "source": [
        "def add():\n",
        "  a=5\n",
        "  b=10\n",
        "  print(a+b)\n",
        "add()\n",
        "\n",
        "def add(a,b):\n",
        "  print(a+b)\n",
        "  a=int(input(\"enter a value\"))\n",
        "  b=int(input(\"enter b value\"))\n",
        "  add(a,b)\n"
      ]
    },
    {
      "cell_type": "code",
      "source": [
        "\n",
        "MENU = {\n",
        "    \"espresso\": {\n",
        "        \"ingredients\":{\n",
        "\n",
        "            \"water\": 50,\n",
        "            \"coffee\": 18\n",
        "        },\n",
        "        \"cost\": 50  # ₹\n",
        "    },\n",
        "    \"latte\": {\n",
        "        \"ingredients\": {\n",
        "            \"water\": 200,\n",
        "            \"milk\": 150,\n",
        "            \"coffee\": 24\n",
        "        },\n",
        "        \"cost\": 100  # ₹\n",
        "    },\n",
        "    \"cappuccino\": {\n",
        "        \"ingredients\": {\n",
        "            \"water\": 250,\n",
        "            \"milk\": 100,\n",
        "            \"coffee\": 24\n",
        "        },\n",
        "        \"cost\": 120\n",
        "    }\n",
        "}\n",
        "\n",
        "resources = {\n",
        "    \"water\": 300,\n",
        "    \"milk\": 200,\n",
        "    \"coffee\": 100,\n",
        "    \"money\": 0.0\n",
        "}\n",
        "\n",
        "\n",
        "def print_report():\n",
        "    print(f\"Water: {resources['water']}ml\")\n",
        "    print(f\"Milk: {resources['milk']}ml\")\n",
        "    print(f\"Coffee: {resources['coffee']}g\")\n",
        "    print(f\"Money: ₹{resources['money']}\")\n",
        "\n",
        "\n",
        "def check_resources(ingredients):\n",
        "    for item in ingredients:\n",
        "        if ingredients[item] > resources.get(item, 0):\n",
        "            print(f\"Sorry, not enough {item}.\")\n",
        "            return False\n",
        "    return True\n",
        "\n",
        "\n",
        "def process_rupees():\n",
        "    try:\n",
        "        rupees = float(input(\"Please insert ₹: \"))\n",
        "        return round(rupees, 2)\n",
        "    except ValueError:\n",
        "        print(\"Invalid input. Please enter a number.\")\n",
        "        return 0.0\n",
        "\n",
        "\n",
        "def is_transaction_successful(payment, cost):\n",
        "    if payment < cost:\n",
        "        print(\"Sorry, that's not enough money. Money refunded.\")\n",
        "        return False\n",
        "    change = round(payment - cost, 2)\n",
        "    if change > 0:\n",
        "        print(f\"Here is ₹{change} in change.\")\n",
        "    resources[\"money\"] += cost\n",
        "    return True\n",
        "\n",
        "\n",
        "def make_coffee(drink_name, ingredients):\n",
        "    for item in ingredients:\n",
        "        resources[item] -= ingredients[item]\n",
        "    print(f\"Here is your {drink_name}. Enjoy!\")\n",
        "\n",
        "is_on = True\n",
        "\n",
        "while is_on:\n",
        "    choice = input(\"What would you like? (espresso/latte/cappuccino): \").lower()\n",
        "\n",
        "    if choice == \"off\":\n",
        "        print(\"Turning off the coffee machine. Goodbye!\")\n",
        "        is_on = False\n",
        "\n",
        "    elif choice == \"report\":\n",
        "        print_report()\n",
        "\n",
        "    elif choice in MENU:\n",
        "        drink = MENU[choice]\n",
        "        if check_resources(drink[\"ingredients\"]):\n",
        "            payment = process_rupees()\n",
        "            if is_transaction_successful(payment, drink[\"cost\"]):\n",
        "                make_coffee(choice, drink[\"ingredients\"])\n",
        "    else:\n",
        "        print(\"Invalid input. Please choose from espresso/latte/cappuccino.\")\n"
      ],
      "metadata": {
        "id": "z0Hd998vmgYj"
      },
      "execution_count": null,
      "outputs": []
    }
  ],
  "metadata": {
    "colab": {
      "provenance": [],
      "authorship_tag": "ABX9TyM3M9UGmTOkRCw+qh2tqt0U",
      "include_colab_link": true
    },
    "kernelspec": {
      "display_name": "Python 3",
      "name": "python3"
    },
    "language_info": {
      "name": "python"
    }
  },
  "nbformat": 4,
  "nbformat_minor": 0
}