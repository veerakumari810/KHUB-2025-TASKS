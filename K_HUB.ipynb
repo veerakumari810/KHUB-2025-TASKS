{
  "nbformat": 4,
  "nbformat_minor": 0,
  "metadata": {
    "colab": {
      "provenance": [],
      "authorship_tag": "ABX9TyPkJgPv52pYG9bF6tbNgjMN",
      "include_colab_link": true
    },
    "kernelspec": {
      "name": "python3",
      "display_name": "Python 3"
    },
    "language_info": {
      "name": "python"
    }
  },
  "cells": [
    {
      "cell_type": "markdown",
      "metadata": {
        "id": "view-in-github",
        "colab_type": "text"
      },
      "source": [
        "<a href=\"https://colab.research.google.com/github/veerakumari810/KHUB-2025-TASKS/blob/main/K_HUB.ipynb\" target=\"_parent\"><img src=\"https://colab.research.google.com/assets/colab-badge.svg\" alt=\"Open In Colab\"/></a>"
      ]
    },
    {
      "cell_type": "markdown",
      "source": [
        "03/08/25"
      ],
      "metadata": {
        "id": "RDkrEJDgHYVX"
      }
    },
    {
      "cell_type": "markdown",
      "source": [
        "print first and last character of a string"
      ],
      "metadata": {
        "id": "k6RkR5ZPH_jL"
      }
    },
    {
      "cell_type": "code",
      "source": [
        "text=\"python\"\n",
        "print(\"frist letter\",text[0])\n",
        "print(\"last number\",text [5])\n"
      ],
      "metadata": {
        "colab": {
          "base_uri": "https://localhost:8080/"
        },
        "id": "Nz2cSrkdIUaM",
        "outputId": "216cdddd-4263-4299-d58f-b076735b66a5"
      },
      "execution_count": null,
      "outputs": [
        {
          "output_type": "stream",
          "name": "stdout",
          "text": [
            "frist letter p\n",
            "last number n\n"
          ]
        }
      ]
    },
    {
      "cell_type": "markdown",
      "source": [
        "count the number of strings in character"
      ],
      "metadata": {
        "id": "b_mY8EFGMphJ"
      }
    },
    {
      "cell_type": "code",
      "source": [
        "text=(\"veerakumari\")\n",
        "print(len(text))"
      ],
      "metadata": {
        "colab": {
          "base_uri": "https://localhost:8080/"
        },
        "id": "GpqLviBeM21F",
        "outputId": "10271646-4111-4e86-cf18-990d68049bd2"
      },
      "execution_count": null,
      "outputs": [
        {
          "output_type": "stream",
          "name": "stdout",
          "text": [
            "11\n"
          ]
        }
      ]
    },
    {
      "cell_type": "markdown",
      "source": [
        "convert a string to uppercase"
      ],
      "metadata": {
        "id": "7NZoYVQaNdVO"
      }
    },
    {
      "cell_type": "code",
      "source": [
        "a=\"PYTHON\"\n",
        "print(a.lower())"
      ],
      "metadata": {
        "colab": {
          "base_uri": "https://localhost:8080/"
        },
        "id": "IW_lIFuQNhNT",
        "outputId": "4a9882f1-c7b8-4a02-a4f7-1b1ef1ed605d"
      },
      "execution_count": null,
      "outputs": [
        {
          "output_type": "stream",
          "name": "stdout",
          "text": [
            "python\n"
          ]
        }
      ]
    },
    {
      "cell_type": "markdown",
      "source": [
        "add two strings\n"
      ],
      "metadata": {
        "id": "Pr3Max0_OVvz"
      }
    },
    {
      "cell_type": "code",
      "source": [
        "text1=\"veera\"\n",
        "text2=\"kumari\"\n",
        "result=text1+text2\n",
        "print(result)"
      ],
      "metadata": {
        "colab": {
          "base_uri": "https://localhost:8080/"
        },
        "id": "sIcBE_X6OpeP",
        "outputId": "ad2ccda1-0884-4d14-a936-101b6c4964b9"
      },
      "execution_count": null,
      "outputs": [
        {
          "output_type": "stream",
          "name": "stdout",
          "text": [
            "veerakumari\n"
          ]
        }
      ]
    },
    {
      "cell_type": "markdown",
      "source": [
        "capitalize only first lettr upper case"
      ],
      "metadata": {
        "id": "8oIfBf6ERlIR"
      }
    },
    {
      "cell_type": "code",
      "source": [
        "txt = \"veera kumari\"\n",
        "a = txt.capitalize()\n",
        "print (a)\n"
      ],
      "metadata": {
        "colab": {
          "base_uri": "https://localhost:8080/"
        },
        "id": "PPbXJEpORwKB",
        "outputId": "d3f9f722-601e-4e7a-ccae-1fff1c07e21b"
      },
      "execution_count": null,
      "outputs": [
        {
          "output_type": "stream",
          "name": "stdout",
          "text": [
            "Veera kumari\n"
          ]
        }
      ]
    },
    {
      "cell_type": "markdown",
      "source": [
        "caseflod all string letter are samll"
      ],
      "metadata": {
        "id": "Gv4lDiHHSdN3"
      }
    },
    {
      "cell_type": "code",
      "source": [
        "txt = \"VEERA KUMARI\"\n",
        "x = txt.casefold()\n",
        "print(x)"
      ],
      "metadata": {
        "colab": {
          "base_uri": "https://localhost:8080/"
        },
        "id": "K1MSNNJhS-3L",
        "outputId": "bada6e4b-819b-4e81-ca44-a0763ca22f7b"
      },
      "execution_count": null,
      "outputs": [
        {
          "output_type": "stream",
          "name": "stdout",
          "text": [
            "veera kumari\n"
          ]
        }
      ]
    },
    {
      "cell_type": "markdown",
      "source": [
        "center return a centered string"
      ],
      "metadata": {
        "id": "f0wXcbqwTnJx"
      }
    },
    {
      "cell_type": "code",
      "source": [
        "txt = \"banana\"\n",
        "x = txt.center(30)\n",
        "print(x)\n"
      ],
      "metadata": {
        "colab": {
          "base_uri": "https://localhost:8080/"
        },
        "id": "M_4tVGk9TzSY",
        "outputId": "44b3f279-9ad8-4e49-c1db-5e9e6a515101"
      },
      "execution_count": null,
      "outputs": [
        {
          "output_type": "stream",
          "name": "stdout",
          "text": [
            "            banana            \n"
          ]
        }
      ]
    },
    {
      "cell_type": "markdown",
      "source": [
        "count returns the number of times a specified values in a string"
      ],
      "metadata": {
        "id": "dOJ0MnBvUqLG"
      }
    },
    {
      "cell_type": "code",
      "source": [
        "txt = \"I love apples,apple, apple are my favorite fruit\"\n",
        "x = txt.count(\"apple\")\n",
        "print(x)\n",
        "\n"
      ],
      "metadata": {
        "colab": {
          "base_uri": "https://localhost:8080/"
        },
        "id": "4pgMabU5VU5x",
        "outputId": "205665c1-9c53-4a09-da9e-b13cb3adc388"
      },
      "execution_count": null,
      "outputs": [
        {
          "output_type": "stream",
          "name": "stdout",
          "text": [
            "3\n"
          ]
        }
      ]
    },
    {
      "cell_type": "markdown",
      "source": [],
      "metadata": {
        "id": "Rdyc4aKlT-x_"
      }
    },
    {
      "cell_type": "markdown",
      "source": [
        "endswitch"
      ],
      "metadata": {
        "id": "RFrBzZZqXP2V"
      }
    },
    {
      "cell_type": "code",
      "source": [
        "txt = \"veera kumari\"\n",
        "x = txt.endswith(\"i\")\n",
        "print(x)\n"
      ],
      "metadata": {
        "colab": {
          "base_uri": "https://localhost:8080/"
        },
        "id": "1etAqjakXSK5",
        "outputId": "6b623de6-90cc-46e4-e0cc-0538b9521c17"
      },
      "execution_count": null,
      "outputs": [
        {
          "output_type": "stream",
          "name": "stdout",
          "text": [
            "True\n"
          ]
        }
      ]
    },
    {
      "cell_type": "markdown",
      "source": [
        "expandtabs"
      ],
      "metadata": {
        "id": "mmJM_Q2dZGhE"
      }
    },
    {
      "cell_type": "code",
      "source": [
        "txt = \"v\\te\\te\\tr\\ta\\tk\\tu\\tm\\ta\\tr\\ti\"\n",
        "x =  txt.expandtabs(2)\n",
        "print(x)"
      ],
      "metadata": {
        "colab": {
          "base_uri": "https://localhost:8080/"
        },
        "id": "6wDnB9d0ZODo",
        "outputId": "97bde721-a2ed-49ba-e350-dc607b4a3b54"
      },
      "execution_count": null,
      "outputs": [
        {
          "output_type": "stream",
          "name": "stdout",
          "text": [
            "v e e r a k u m a r i\n"
          ]
        }
      ]
    },
    {
      "cell_type": "markdown",
      "source": [
        "find()"
      ],
      "metadata": {
        "id": "I-Q3vj7DcEgR"
      }
    },
    {
      "cell_type": "code",
      "source": [
        "txt = \"veera kumari\"\n",
        "x = txt.find(\"k\")\n",
        "print(x)\n"
      ],
      "metadata": {
        "colab": {
          "base_uri": "https://localhost:8080/"
        },
        "id": "cpUWGl38cGzo",
        "outputId": "8a76c3e6-e558-4acf-c3e8-952614f32d68"
      },
      "execution_count": null,
      "outputs": [
        {
          "output_type": "stream",
          "name": "stdout",
          "text": [
            "6\n"
          ]
        }
      ]
    },
    {
      "cell_type": "markdown",
      "source": [
        "format()"
      ],
      "metadata": {
        "id": "unuIn34deSFl"
      }
    },
    {
      "cell_type": "code",
      "source": [
        "txt = \"For only {price} dollars!\"\n",
        "print(txt.format(price = 49))\n"
      ],
      "metadata": {
        "colab": {
          "base_uri": "https://localhost:8080/"
        },
        "id": "KL3eoUCfeU2x",
        "outputId": "0a2ebdeb-4209-4fa5-a484-3e95a4aa118a"
      },
      "execution_count": null,
      "outputs": [
        {
          "output_type": "stream",
          "name": "stdout",
          "text": [
            "For only 49 dollars\n"
          ]
        }
      ]
    },
    {
      "cell_type": "markdown",
      "source": [
        "Boolean"
      ],
      "metadata": {
        "id": "33zZREDGWJ8u"
      }
    },
    {
      "cell_type": "code",
      "source": [
        "print(10 > 9)\n",
        "print(10 == 9)\n",
        "print(10 < 9)\n"
      ],
      "metadata": {
        "colab": {
          "base_uri": "https://localhost:8080/"
        },
        "id": "G271qrU3WN6a",
        "outputId": "b89523ec-b63c-4bbd-d763-c818b0304692"
      },
      "execution_count": 2,
      "outputs": [
        {
          "output_type": "stream",
          "name": "stdout",
          "text": [
            "True\n",
            "False\n",
            "False\n"
          ]
        }
      ]
    },
    {
      "cell_type": "markdown",
      "source": [
        "greater or not"
      ],
      "metadata": {
        "id": "CG04g_GTXTZe"
      }
    },
    {
      "cell_type": "code",
      "source": [
        "a = 200\n",
        "b = 33\n",
        "if b > a:\n",
        "  print(\"b is greater than a\")\n",
        "else:\n",
        "  print(\"b is not greater than a\")\n"
      ],
      "metadata": {
        "colab": {
          "base_uri": "https://localhost:8080/"
        },
        "id": "8QPQg2F6XYft",
        "outputId": "e7ae776d-575d-487a-b555-ddbb8ff36b34"
      },
      "execution_count": 4,
      "outputs": [
        {
          "output_type": "stream",
          "name": "stdout",
          "text": [
            "b is not greater than a\n"
          ]
        }
      ]
    },
    {
      "cell_type": "markdown",
      "source": [
        "Arithmetic operations"
      ],
      "metadata": {
        "id": "_1Sq0Ux8hyAL"
      }
    },
    {
      "cell_type": "code",
      "source": [
        "a=4\n",
        "b=2\n",
        "c=a+b\n",
        "print(c)\n",
        "\n",
        "c=a-b\n",
        "print(c)\n",
        "\n",
        "c=a*b\n",
        "print(c)\n",
        "\n",
        "c=a/b\n",
        "print(c)\n",
        "\n",
        "c=a%b\n",
        "print(c)\n",
        "\n",
        "c=a**b\n",
        "print(c)\n",
        "\n",
        "c=a//b\n",
        "print(c)"
      ],
      "metadata": {
        "colab": {
          "base_uri": "https://localhost:8080/"
        },
        "id": "U_TW2uPiiU6Z",
        "outputId": "fb450aff-6a44-4d55-83b5-5c0e94119a0e"
      },
      "execution_count": 10,
      "outputs": [
        {
          "output_type": "stream",
          "name": "stdout",
          "text": [
            "6\n",
            "2\n",
            "8\n",
            "2.0\n",
            "0\n",
            "16\n",
            "2\n"
          ]
        }
      ]
    },
    {
      "cell_type": "markdown",
      "source": [
        "comparision and relational operations"
      ],
      "metadata": {
        "id": "hHAL2NT2jW6m"
      }
    },
    {
      "cell_type": "code",
      "source": [
        "x=5\n",
        "y=8\n",
        "print(x==y)\n",
        "print(x!=y)\n",
        "print(x>y)\n",
        "print(x<y)\n",
        "print(x>=y)\n",
        "print(x<=y)"
      ],
      "metadata": {
        "colab": {
          "base_uri": "https://localhost:8080/"
        },
        "id": "7JHYlQ0tjddg",
        "outputId": "4c1800b3-55e9-47d6-cfcc-6988ee1592f1"
      },
      "execution_count": 12,
      "outputs": [
        {
          "output_type": "stream",
          "name": "stdout",
          "text": [
            "False\n",
            "True\n",
            "False\n",
            "True\n",
            "False\n",
            "True\n"
          ]
        }
      ]
    },
    {
      "cell_type": "markdown",
      "source": [
        "Assigenment operations"
      ],
      "metadata": {
        "id": "DgrLzkpYj43l"
      }
    },
    {
      "cell_type": "code",
      "source": [
        "x=5\n",
        "x+=2\n",
        "print(x)\n",
        "x-=1\n",
        "print(x)\n",
        "x*=3\n",
        "print(x)\n",
        "x/=2\n",
        "print(2)\n",
        ""
      ],
      "metadata": {
        "colab": {
          "base_uri": "https://localhost:8080/"
        },
        "id": "-UToBBo1j8aP",
        "outputId": "7363664b-d08a-4caf-8b76-a7d457006538"
      },
      "execution_count": 22,
      "outputs": [
        {
          "output_type": "stream",
          "name": "stdout",
          "text": [
            "7\n",
            "6\n",
            "18\n",
            "2\n"
          ]
        }
      ]
    },
    {
      "cell_type": "markdown",
      "source": [
        "logical operators"
      ],
      "metadata": {
        "id": "eWLuedxYmhpH"
      }
    },
    {
      "cell_type": "code",
      "source": [
        "x = 10\n",
        "y = 5\n",
        "\n",
        "if x > 5 and y < 10:\n",
        "    print(\"both conditions are true\")\n",
        "\n",
        "x = 10"
      ],
      "metadata": {
        "colab": {
          "base_uri": "https://localhost:8080/"
        },
        "id": "eZ0jB5M7mlV3",
        "outputId": "d2423d5d-8af7-41b1-9850-358dc68d6d24"
      },
      "execution_count": 40,
      "outputs": [
        {
          "output_type": "stream",
          "name": "stdout",
          "text": [
            "both conditions are true\n"
          ]
        }
      ]
    },
    {
      "cell_type": "markdown",
      "source": [
        "bitwise operators"
      ],
      "metadata": {
        "id": "62_2wt86qvjl"
      }
    },
    {
      "cell_type": "code",
      "source": [],
      "metadata": {
        "id": "fv2Cv0Mvq0st"
      },
      "execution_count": null,
      "outputs": []
    },
    {
      "cell_type": "markdown",
      "source": [],
      "metadata": {
        "id": "7N4r4r6TqmNv"
      }
    }
  ]
}